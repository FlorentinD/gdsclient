{
 "cells": [
  {
   "cell_type": "code",
   "execution_count": null,
   "metadata": {},
   "outputs": [],
   "source": [
    "%pip install requests_oauthlib polling2"
   ]
  },
  {
   "cell_type": "markdown",
   "metadata": {},
   "source": []
  },
  {
   "cell_type": "code",
   "execution_count": 1,
   "metadata": {},
   "outputs": [],
   "source": [
    "CLIENT_ID = <your_client_id>\n",
    "CLIENT_SECRET = <your_client_secret>"
   ]
  },
  {
   "cell_type": "code",
   "execution_count": null,
   "metadata": {},
   "outputs": [],
   "source": [
    "import polling2\n",
    "import requests as req"
   ]
  },
  {
   "cell_type": "code",
   "execution_count": 2,
   "metadata": {},
   "outputs": [
    {
     "name": "stdout",
     "output_type": "stream",
     "text": [
      "[]\n"
     ]
    }
   ],
   "source": [
    "from graphdatascience import aura_api\n",
    "\n",
    "api = aura_api.AuraApi(CLIENT_ID, CLIENT_SECRET)\n",
    "\n",
    "print(api.list_instances())\n",
    "\n"
   ]
  },
  {
   "cell_type": "code",
   "execution_count": 3,
   "metadata": {},
   "outputs": [
    {
     "name": "stdout",
     "output_type": "stream",
     "text": [
      "InstanceCreateDetails(id='cb968b56', name='', tenant_id='30ec2ee4-9150-5c3a-a7a1-d7d087169f05', cloud_provider='gcp', password='D3JH6AZHKWJMYXPvuC0wK-Nf9HSYrchHIR0dPaw4sJQ', username='neo4j')\n"
     ]
    }
   ],
   "source": [
    "instance = api.create_instance(\"my-test\")\n",
    "\n",
    "print(instance)"
   ]
  },
  {
   "cell_type": "code",
   "execution_count": 4,
   "metadata": {},
   "outputs": [
    {
     "data": {
      "text/plain": [
       "InstanceSpecificDetails(id='cb968b56', name='my-test', tenant_id='30ec2ee4-9150-5c3a-a7a1-d7d087169f05', cloud_provider='gcp', status='creating', connection_url='', memory='0MB')"
      ]
     },
     "execution_count": 4,
     "metadata": {},
     "output_type": "execute_result"
    }
   ],
   "source": [
    "api.list_instances(instance.id)"
   ]
  },
  {
   "cell_type": "code",
   "execution_count": 5,
   "metadata": {},
   "outputs": [
    {
     "data": {
      "text/plain": [
       "InstanceSpecificDetails(id='cb968b56', name='my-test', tenant_id='30ec2ee4-9150-5c3a-a7a1-d7d087169f05', cloud_provider='gcp', status='destroying', connection_url='', memory='0MB')"
      ]
     },
     "execution_count": 5,
     "metadata": {},
     "output_type": "execute_result"
    }
   ],
   "source": [
    "api.delete_instance(instance.id)"
   ]
  },
  {
   "cell_type": "code",
   "execution_count": null,
   "metadata": {},
   "outputs": [],
   "source": [
    "[api.delete_instance(i.id) for i in api.list_instances()]"
   ]
  }
 ],
 "metadata": {
  "kernelspec": {
   "display_name": "Python 3",
   "language": "python",
   "name": "python3"
  },
  "language_info": {
   "codemirror_mode": {
    "name": "ipython",
    "version": 3
   },
   "file_extension": ".py",
   "mimetype": "text/x-python",
   "name": "python",
   "nbconvert_exporter": "python",
   "pygments_lexer": "ipython3",
   "version": "3.11.5"
  },
  "orig_nbformat": 4
 },
 "nbformat": 4,
 "nbformat_minor": 2
}
