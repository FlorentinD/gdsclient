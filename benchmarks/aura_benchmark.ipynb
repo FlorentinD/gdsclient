{
 "cells": [
  {
   "cell_type": "markdown",
   "metadata": {},
   "source": [
    "# Benchmarking Aura features"
   ]
  },
  {
   "cell_type": "code",
   "execution_count": 1,
   "metadata": {
    "ExecuteTime": {
     "end_time": "2024-01-17T11:25:08.696301183Z",
     "start_time": "2024-01-17T11:25:08.504675381Z"
    }
   },
   "outputs": [],
   "source": [
    "import os\n",
    "import timeit\n",
    "\n",
    "import numpy as np\n",
    "import seaborn as sns\n",
    "from tqdm import tqdm\n",
    "from dotenv import load_dotenv\n",
    "\n",
    "from graphdatascience.aura_sessions import AuraSessions\n",
    "from graphdatascience.query_runner.aura_db_arrow_query_runner import AuraDbConnectionInfo"
   ]
  },
  {
   "cell_type": "code",
   "execution_count": 3,
   "metadata": {
    "ExecuteTime": {
     "end_time": "2024-01-17T11:25:11.675374302Z",
     "start_time": "2024-01-17T11:25:11.654881012Z"
    }
   },
   "outputs": [],
   "source": [
    "load_dotenv(\"credentials.env\")\n",
    "\n",
    "CLIENT_ID = os.environ.get(\"CLIENT_ID\")\n",
    "CLIENT_SECRET = os.environ.get(\"CLIENT_SECRET\")\n",
    "\n",
    "DB_PASSWORD = os.environ.get(\"DB_PASSWORD\")\n",
    "DB_ID = os.environ.get(\"DB_ID\")\n",
    "\n",
    "db_connection_info = AuraDbConnectionInfo(\n",
    "    f\"neo4j+s://{DB_ID}-{os.environ['AURA_ENV']}.databases.neo4j-dev.io\", (\"neo4j\", DB_PASSWORD)\n",
    ")"
   ]
  },
  {
   "cell_type": "code",
   "execution_count": 5,
   "metadata": {
    "ExecuteTime": {
     "end_time": "2024-01-17T11:25:34.752173006Z",
     "start_time": "2024-01-17T11:25:29.481106913Z"
    }
   },
   "outputs": [
    {
     "name": "stdout",
     "output_type": "stream",
     "text": [
      "Starting GDS session\n"
     ]
    }
   ],
   "source": [
    "sessions = AuraSessions(db_connection_info, (CLIENT_ID, CLIENT_SECRET))\n",
    "session_name = \"benchmark-session\"\n",
    "session_pw = \"my-password\"\n",
    "\n",
    "print(\"Starting GDS session\")\n",
    "if session_name in [i.name for i in sessions.list_sessions()]:\n",
    "    gds = sessions.connect(session_name, session_pw)\n",
    "else:\n",
    "    gds = sessions.create_gds(session_name, session_pw, \"24GB\")"
   ]
  },
  {
   "cell_type": "code",
   "execution_count": 22,
   "metadata": {
    "ExecuteTime": {
     "end_time": "2024-01-17T13:19:05.217950781Z",
     "start_time": "2024-01-17T13:19:05.208111459Z"
    }
   },
   "outputs": [],
   "source": [
    "def measure(func, setup, iterations, warmup_iterations):\n",
    "    pbar = tqdm(total=iterations + warmup_iterations)\n",
    "\n",
    "    def wrapper():\n",
    "        value = func()\n",
    "        pbar.update(1)\n",
    "        return value\n",
    "\n",
    "    pbar.set_description(\"Warmup\")\n",
    "    warmup = timeit.repeat(wrapper, setup=setup, number=1, repeat=warmup_iterations)\n",
    "\n",
    "    pbar.set_description(\"Measurement\")\n",
    "    measurement = timeit.repeat(wrapper, setup=setup, number=1, repeat=iterations)\n",
    "\n",
    "    pbar.close()\n",
    "\n",
    "    return {\"iterations\": measurement, \"mean\": np.mean(measurement), \"avg\": np.average(measurement)}"
   ]
  },
  {
   "cell_type": "markdown",
   "metadata": {
    "collapsed": false
   },
   "source": [
    "## Projection"
   ]
  },
  {
   "cell_type": "code",
   "execution_count": null,
   "metadata": {},
   "outputs": [],
   "source": [
    "def run_remote_projection(query, concurrency):\n",
    "    with gds.graph.project(\"graph\", query, concurrency=concurrency) as G:\n",
    "        ()"
   ]
  },
  {
   "cell_type": "code",
   "execution_count": null,
   "metadata": {},
   "outputs": [],
   "source": [
    "run_remote_projection(\n",
    "    \"\"\"\n",
    "    CYPHER runtime = parallel\n",
    "    MATCH (u)\n",
    "    OPTIONAL MATCH (u)-[r]->(t)\n",
    "    RETURN gds.graph.project.remote(u, t, {})\n",
    "    \"\"\",\n",
    "    concurrency=1,\n",
    ")"
   ]
  },
  {
   "cell_type": "markdown",
   "metadata": {
    "collapsed": false
   },
   "source": [
    "### Project entire graph, structure only"
   ]
  },
  {
   "cell_type": "markdown",
   "metadata": {
    "collapsed": false
   },
   "source": [
    "#### No parallel Runtime"
   ]
  },
  {
   "cell_type": "code",
   "execution_count": null,
   "metadata": {},
   "outputs": [],
   "source": [
    "data = {}\n",
    "for concurrency in [8]:\n",
    "    result = measure(\n",
    "        lambda: run_remote_projection(\n",
    "            \"\"\"\n",
    "            MATCH (u)\n",
    "            OPTIONAL MATCH (u)-[r]->(t)\n",
    "            RETURN gds.graph.project.remote(u, t, null)\n",
    "            \"\"\",\n",
    "            concurrency=concurrency,\n",
    "        ),\n",
    "        lambda: gds.graph.drop(\"graph\", failIfMissing=False),\n",
    "        iterations=1,\n",
    "        warmup_iterations=1,\n",
    "    )\n",
    "    data[concurrency] = result"
   ]
  },
  {
   "cell_type": "code",
   "execution_count": null,
   "metadata": {},
   "outputs": [],
   "source": [
    "values = {k: v[\"mean\"] for k, v in list(data.items())}\n",
    "\n",
    "plot = sns.barplot(values)\n",
    "plot.set(xlabel=\"concurrency\", ylabel=\"average runtime\")"
   ]
  },
  {
   "cell_type": "markdown",
   "metadata": {
    "collapsed": false
   },
   "source": [
    "#### Parallel Runtime"
   ]
  },
  {
   "cell_type": "code",
   "execution_count": null,
   "metadata": {},
   "outputs": [],
   "source": [
    "data = {}\n",
    "for concurrency in [8]:\n",
    "    result = measure(\n",
    "        lambda: run_remote_projection(\n",
    "            \"\"\"\n",
    "            CYPHER runtime = parallel\n",
    "            MATCH (u)\n",
    "            OPTIONAL MATCH (u)-[r]->(t)\n",
    "            RETURN gds.graph.project.remote(u, t, null)\n",
    "            \"\"\",\n",
    "            concurrency=concurrency,\n",
    "        ),\n",
    "        lambda: (),\n",
    "        iterations=1,\n",
    "        warmup_iterations=1,\n",
    "    )\n",
    "    data[concurrency] = result\n",
    "\n",
    "plot = sns.barplot({k: v[\"mean\"] for k, v in data.items()})\n",
    "plot.set(xlabel=\"concurrency\", ylabel=\"average runtime\")"
   ]
  },
  {
   "cell_type": "markdown",
   "metadata": {
    "collapsed": false
   },
   "source": [
    "### Project entire graph, with properties and labels"
   ]
  },
  {
   "cell_type": "code",
   "execution_count": null,
   "metadata": {},
   "outputs": [],
   "source": [
    "query = \"\"\" CYPHER runtime = parallel\n",
    "            MATCH (u)\n",
    "            OPTIONAL MATCH (u)-[r]->(t)\n",
    "            RETURN gds.graph.project.remote(u, t, {\n",
    "                sourceNodeLabels: labels(u),\n",
    "                sourceNodeProperties: {id: id(u)},\n",
    "                targetNodeLabels: labels(t),\n",
    "                targetNodeProperties: {id: id(t)},\n",
    "                relationshipType: type(r),\n",
    "                relationshipProperties: {id: id(r)}\n",
    "            })\n",
    "        \"\"\"\n",
    "\n",
    "data = {}\n",
    "for concurrency in [8]:\n",
    "    result = measure(\n",
    "        lambda: run_remote_projection(query, concurrency=concurrency), lambda: (), iterations=10, warmup_iterations=5\n",
    "    )\n",
    "    data[concurrency] = result\n",
    "\n",
    "plot = sns.barplot({k: v[\"mean\"] for k, v in data.items()})\n",
    "plot.set(xlabel=\"concurrency\", ylabel=\"average runtime\")"
   ]
  },
  {
   "cell_type": "markdown",
   "metadata": {},
   "source": [
    "## Write back"
   ]
  },
  {
   "cell_type": "code",
   "execution_count": 8,
   "metadata": {
    "ExecuteTime": {
     "end_time": "2024-01-17T11:27:32.510478888Z",
     "start_time": "2024-01-17T11:25:51.988357096Z"
    }
   },
   "outputs": [],
   "source": [
    "G, _ = gds.graph.project(\n",
    "    \"graph\",\n",
    "    \"\"\"\n",
    "    CYPHER runtime = parallel\n",
    "    MATCH (u)\n",
    "    OPTIONAL MATCH (u)-[r]->(t)\n",
    "    RETURN gds.graph.project.remote(u, t, {})\n",
    "    \"\"\",\n",
    "    concurrency=4,\n",
    ")"
   ]
  },
  {
   "cell_type": "code",
   "execution_count": 9,
   "metadata": {
    "ExecuteTime": {
     "end_time": "2024-01-17T11:28:16.451821274Z",
     "start_time": "2024-01-17T11:28:16.338877215Z"
    }
   },
   "outputs": [],
   "source": [
    "G = gds.graph.get(\"graph\")"
   ]
  },
  {
   "cell_type": "markdown",
   "metadata": {},
   "source": [
    "### Node properties"
   ]
  },
  {
   "cell_type": "code",
   "execution_count": 10,
   "metadata": {
    "ExecuteTime": {
     "end_time": "2024-01-17T11:28:20.509380695Z",
     "start_time": "2024-01-17T11:28:19.620262551Z"
    }
   },
   "outputs": [
    {
     "data": {
      "text/plain": "nodePropertiesWritten                                              29987836\nmutateMillis                                                              0\ncentralityDistribution    {'min': 0.0, 'max': 9514.062492370605, 'p90': ...\npostProcessingMillis                                                      0\npreProcessingMillis                                                       0\ncomputeMillis                                                            12\nconfiguration             {'orientation': 'NATURAL', 'mutateProperty': '...\nName: 0, dtype: object"
     },
     "execution_count": 10,
     "metadata": {},
     "output_type": "execute_result"
    }
   ],
   "source": [
    "gds.degree.mutate(G, mutateProperty=\"degree\")"
   ]
  },
  {
   "cell_type": "code",
   "execution_count": 24,
   "metadata": {
    "ExecuteTime": {
     "end_time": "2024-01-17T13:28:34.034617696Z",
     "start_time": "2024-01-17T13:25:28.826913160Z"
    }
   },
   "outputs": [
    {
     "name": "stderr",
     "output_type": "stream",
     "text": [
      "\n",
      "  0%|          | 0/2 [00:00<?, ?it/s]\u001B[A\n",
      "Warmup:   0%|          | 0/2 [00:00<?, ?it/s]\u001B[A"
     ]
    },
    {
     "ename": "ClientError",
     "evalue": "{code: Neo.ClientError.Procedure.ProcedureCallFailed} {message: Failed to invoke procedure `gds.graph.nodeProperties.write`: Caused by: com.neo4j.gds.shaded.org.apache.arrow.flight.FlightRuntimeException: INTERNAL: org.apache.arrow.flight.FlightRuntimeException: UNKNOWN: java.util.concurrent.ExecutionException: java.lang.RuntimeException: java.lang.NullPointerException: Cannot invoke \"org.neo4j.internal.kernel.api.security.LoginContext.authorize(org.neo4j.internal.kernel.api.security.LoginContext$IdLookup, String, org.neo4j.internal.kernel.api.security.AbstractSecurityLog)\" because \"loginContext\" is null\njava.util.concurrent.ExecutionException: java.lang.RuntimeException: java.lang.NullPointerException: Cannot invoke \"org.neo4j.internal.kernel.api.security.LoginContext.authorize(org.neo4j.internal.kernel.api.security.LoginContext$IdLookup, String, org.neo4j.internal.kernel.api.security.AbstractSecurityLog)\" because \"loginContext\" is null}",
     "output_type": "error",
     "traceback": [
      "\u001B[0;31m---------------------------------------------------------------------------\u001B[0m",
      "\u001B[0;31mClientError\u001B[0m                               Traceback (most recent call last)",
      "Cell \u001B[0;32mIn[24], line 1\u001B[0m\n\u001B[0;32m----> 1\u001B[0m result \u001B[38;5;241m=\u001B[39m \u001B[43mmeasure\u001B[49m\u001B[43m(\u001B[49m\n\u001B[1;32m      2\u001B[0m \u001B[43m    \u001B[49m\u001B[38;5;28;43;01mlambda\u001B[39;49;00m\u001B[43m:\u001B[49m\u001B[43m \u001B[49m\u001B[43mgds\u001B[49m\u001B[38;5;241;43m.\u001B[39;49m\u001B[43mgraph\u001B[49m\u001B[38;5;241;43m.\u001B[39;49m\u001B[43mnodeProperties\u001B[49m\u001B[38;5;241;43m.\u001B[39;49m\u001B[43mwrite\u001B[49m\u001B[43m(\u001B[49m\u001B[43mG\u001B[49m\u001B[43m,\u001B[49m\u001B[43m \u001B[49m\u001B[43mnode_properties\u001B[49m\u001B[38;5;241;43m=\u001B[39;49m\u001B[43m[\u001B[49m\u001B[38;5;124;43m\"\u001B[39;49m\u001B[38;5;124;43mdegree\u001B[39;49m\u001B[38;5;124;43m\"\u001B[39;49m\u001B[43m]\u001B[49m\u001B[43m)\u001B[49m\u001B[43m,\u001B[49m\n\u001B[1;32m      3\u001B[0m \u001B[43m    \u001B[49m\u001B[38;5;28;43;01mlambda\u001B[39;49;00m\u001B[43m:\u001B[49m\u001B[43m \u001B[49m\u001B[43mgds\u001B[49m\u001B[38;5;241;43m.\u001B[39;49m\u001B[43mrun_cypher\u001B[49m\u001B[43m(\u001B[49m\u001B[38;5;124;43m\"\u001B[39;49m\u001B[38;5;124;43mMATCH (n) CALL \u001B[39;49m\u001B[38;5;124;43m{\u001B[39;49m\u001B[38;5;124;43m WITH n REMOVE n.degree} IN TRANSACTIONS  OF 2000 ROWS\u001B[39;49m\u001B[38;5;124;43m\"\u001B[39;49m\u001B[43m)\u001B[49m\u001B[43m,\u001B[49m\n\u001B[1;32m      4\u001B[0m \u001B[43m    \u001B[49m\u001B[43miterations\u001B[49m\u001B[38;5;241;43m=\u001B[39;49m\u001B[38;5;241;43m1\u001B[39;49m\u001B[43m,\u001B[49m\n\u001B[1;32m      5\u001B[0m \u001B[43m    \u001B[49m\u001B[43mwarmup_iterations\u001B[49m\u001B[38;5;241;43m=\u001B[39;49m\u001B[38;5;241;43m1\u001B[39;49m\u001B[43m,\u001B[49m\n\u001B[1;32m      6\u001B[0m \u001B[43m)\u001B[49m\n\u001B[1;32m      8\u001B[0m \u001B[38;5;28mprint\u001B[39m(\u001B[38;5;124mf\u001B[39m\u001B[38;5;124m\"\u001B[39m\u001B[38;5;124mscalar property write-back: \u001B[39m\u001B[38;5;132;01m{\u001B[39;00mresult\u001B[38;5;132;01m}\u001B[39;00m\u001B[38;5;124m\"\u001B[39m)\n",
      "Cell \u001B[0;32mIn[22], line 10\u001B[0m, in \u001B[0;36mmeasure\u001B[0;34m(func, setup, iterations, warmup_iterations)\u001B[0m\n\u001B[1;32m      7\u001B[0m     \u001B[38;5;28;01mreturn\u001B[39;00m value\n\u001B[1;32m      9\u001B[0m pbar\u001B[38;5;241m.\u001B[39mset_description(\u001B[38;5;124m\"\u001B[39m\u001B[38;5;124mWarmup\u001B[39m\u001B[38;5;124m\"\u001B[39m)\n\u001B[0;32m---> 10\u001B[0m warmup \u001B[38;5;241m=\u001B[39m \u001B[43mtimeit\u001B[49m\u001B[38;5;241;43m.\u001B[39;49m\u001B[43mrepeat\u001B[49m\u001B[43m(\u001B[49m\u001B[43mwrapper\u001B[49m\u001B[43m,\u001B[49m\u001B[43m \u001B[49m\u001B[43msetup\u001B[49m\u001B[38;5;241;43m=\u001B[39;49m\u001B[43msetup\u001B[49m\u001B[43m,\u001B[49m\u001B[43m \u001B[49m\u001B[43mnumber\u001B[49m\u001B[38;5;241;43m=\u001B[39;49m\u001B[38;5;241;43m1\u001B[39;49m\u001B[43m,\u001B[49m\u001B[43m \u001B[49m\u001B[43mrepeat\u001B[49m\u001B[38;5;241;43m=\u001B[39;49m\u001B[43mwarmup_iterations\u001B[49m\u001B[43m)\u001B[49m\n\u001B[1;32m     12\u001B[0m pbar\u001B[38;5;241m.\u001B[39mset_description(\u001B[38;5;124m\"\u001B[39m\u001B[38;5;124mMeasurement\u001B[39m\u001B[38;5;124m\"\u001B[39m)\n\u001B[1;32m     13\u001B[0m measurement \u001B[38;5;241m=\u001B[39m timeit\u001B[38;5;241m.\u001B[39mrepeat(wrapper, setup\u001B[38;5;241m=\u001B[39msetup, number\u001B[38;5;241m=\u001B[39m\u001B[38;5;241m1\u001B[39m, repeat\u001B[38;5;241m=\u001B[39miterations)\n",
      "File \u001B[0;32m/usr/lib/python3.11/timeit.py:243\u001B[0m, in \u001B[0;36mrepeat\u001B[0;34m(stmt, setup, timer, repeat, number, globals)\u001B[0m\n\u001B[1;32m    240\u001B[0m \u001B[38;5;28;01mdef\u001B[39;00m \u001B[38;5;21mrepeat\u001B[39m(stmt\u001B[38;5;241m=\u001B[39m\u001B[38;5;124m\"\u001B[39m\u001B[38;5;124mpass\u001B[39m\u001B[38;5;124m\"\u001B[39m, setup\u001B[38;5;241m=\u001B[39m\u001B[38;5;124m\"\u001B[39m\u001B[38;5;124mpass\u001B[39m\u001B[38;5;124m\"\u001B[39m, timer\u001B[38;5;241m=\u001B[39mdefault_timer,\n\u001B[1;32m    241\u001B[0m            repeat\u001B[38;5;241m=\u001B[39mdefault_repeat, number\u001B[38;5;241m=\u001B[39mdefault_number, \u001B[38;5;28mglobals\u001B[39m\u001B[38;5;241m=\u001B[39m\u001B[38;5;28;01mNone\u001B[39;00m):\n\u001B[1;32m    242\u001B[0m \u001B[38;5;250m    \u001B[39m\u001B[38;5;124;03m\"\"\"Convenience function to create Timer object and call repeat method.\"\"\"\u001B[39;00m\n\u001B[0;32m--> 243\u001B[0m     \u001B[38;5;28;01mreturn\u001B[39;00m \u001B[43mTimer\u001B[49m\u001B[43m(\u001B[49m\u001B[43mstmt\u001B[49m\u001B[43m,\u001B[49m\u001B[43m \u001B[49m\u001B[43msetup\u001B[49m\u001B[43m,\u001B[49m\u001B[43m \u001B[49m\u001B[43mtimer\u001B[49m\u001B[43m,\u001B[49m\u001B[43m \u001B[49m\u001B[38;5;28;43mglobals\u001B[39;49m\u001B[43m)\u001B[49m\u001B[38;5;241;43m.\u001B[39;49m\u001B[43mrepeat\u001B[49m\u001B[43m(\u001B[49m\u001B[43mrepeat\u001B[49m\u001B[43m,\u001B[49m\u001B[43m \u001B[49m\u001B[43mnumber\u001B[49m\u001B[43m)\u001B[49m\n",
      "File \u001B[0;32m/usr/lib/python3.11/timeit.py:208\u001B[0m, in \u001B[0;36mTimer.repeat\u001B[0;34m(self, repeat, number)\u001B[0m\n\u001B[1;32m    206\u001B[0m r \u001B[38;5;241m=\u001B[39m []\n\u001B[1;32m    207\u001B[0m \u001B[38;5;28;01mfor\u001B[39;00m i \u001B[38;5;129;01min\u001B[39;00m \u001B[38;5;28mrange\u001B[39m(repeat):\n\u001B[0;32m--> 208\u001B[0m     t \u001B[38;5;241m=\u001B[39m \u001B[38;5;28;43mself\u001B[39;49m\u001B[38;5;241;43m.\u001B[39;49m\u001B[43mtimeit\u001B[49m\u001B[43m(\u001B[49m\u001B[43mnumber\u001B[49m\u001B[43m)\u001B[49m\n\u001B[1;32m    209\u001B[0m     r\u001B[38;5;241m.\u001B[39mappend(t)\n\u001B[1;32m    210\u001B[0m \u001B[38;5;28;01mreturn\u001B[39;00m r\n",
      "File \u001B[0;32m/usr/lib/python3.11/timeit.py:180\u001B[0m, in \u001B[0;36mTimer.timeit\u001B[0;34m(self, number)\u001B[0m\n\u001B[1;32m    178\u001B[0m gc\u001B[38;5;241m.\u001B[39mdisable()\n\u001B[1;32m    179\u001B[0m \u001B[38;5;28;01mtry\u001B[39;00m:\n\u001B[0;32m--> 180\u001B[0m     timing \u001B[38;5;241m=\u001B[39m \u001B[38;5;28;43mself\u001B[39;49m\u001B[38;5;241;43m.\u001B[39;49m\u001B[43minner\u001B[49m\u001B[43m(\u001B[49m\u001B[43mit\u001B[49m\u001B[43m,\u001B[49m\u001B[43m \u001B[49m\u001B[38;5;28;43mself\u001B[39;49m\u001B[38;5;241;43m.\u001B[39;49m\u001B[43mtimer\u001B[49m\u001B[43m)\u001B[49m\n\u001B[1;32m    181\u001B[0m \u001B[38;5;28;01mfinally\u001B[39;00m:\n\u001B[1;32m    182\u001B[0m     \u001B[38;5;28;01mif\u001B[39;00m gcold:\n",
      "File \u001B[0;32m<timeit-src>:6\u001B[0m, in \u001B[0;36minner\u001B[0;34m(_it, _timer, _setup, _stmt)\u001B[0m\n",
      "Cell \u001B[0;32mIn[22], line 5\u001B[0m, in \u001B[0;36mmeasure.<locals>.wrapper\u001B[0;34m()\u001B[0m\n\u001B[1;32m      4\u001B[0m \u001B[38;5;28;01mdef\u001B[39;00m \u001B[38;5;21mwrapper\u001B[39m():\n\u001B[0;32m----> 5\u001B[0m     value \u001B[38;5;241m=\u001B[39m \u001B[43mfunc\u001B[49m\u001B[43m(\u001B[49m\u001B[43m)\u001B[49m\n\u001B[1;32m      6\u001B[0m     pbar\u001B[38;5;241m.\u001B[39mupdate(\u001B[38;5;241m1\u001B[39m)\n\u001B[1;32m      7\u001B[0m     \u001B[38;5;28;01mreturn\u001B[39;00m value\n",
      "Cell \u001B[0;32mIn[24], line 2\u001B[0m, in \u001B[0;36m<lambda>\u001B[0;34m()\u001B[0m\n\u001B[1;32m      1\u001B[0m result \u001B[38;5;241m=\u001B[39m measure(\n\u001B[0;32m----> 2\u001B[0m     \u001B[38;5;28;01mlambda\u001B[39;00m: \u001B[43mgds\u001B[49m\u001B[38;5;241;43m.\u001B[39;49m\u001B[43mgraph\u001B[49m\u001B[38;5;241;43m.\u001B[39;49m\u001B[43mnodeProperties\u001B[49m\u001B[38;5;241;43m.\u001B[39;49m\u001B[43mwrite\u001B[49m\u001B[43m(\u001B[49m\u001B[43mG\u001B[49m\u001B[43m,\u001B[49m\u001B[43m \u001B[49m\u001B[43mnode_properties\u001B[49m\u001B[38;5;241;43m=\u001B[39;49m\u001B[43m[\u001B[49m\u001B[38;5;124;43m\"\u001B[39;49m\u001B[38;5;124;43mdegree\u001B[39;49m\u001B[38;5;124;43m\"\u001B[39;49m\u001B[43m]\u001B[49m\u001B[43m)\u001B[49m,\n\u001B[1;32m      3\u001B[0m     \u001B[38;5;28;01mlambda\u001B[39;00m: gds\u001B[38;5;241m.\u001B[39mrun_cypher(\u001B[38;5;124m\"\u001B[39m\u001B[38;5;124mMATCH (n) CALL \u001B[39m\u001B[38;5;124m{\u001B[39m\u001B[38;5;124m WITH n REMOVE n.degree} IN TRANSACTIONS  OF 2000 ROWS\u001B[39m\u001B[38;5;124m\"\u001B[39m),\n\u001B[1;32m      4\u001B[0m     iterations\u001B[38;5;241m=\u001B[39m\u001B[38;5;241m1\u001B[39m,\n\u001B[1;32m      5\u001B[0m     warmup_iterations\u001B[38;5;241m=\u001B[39m\u001B[38;5;241m1\u001B[39m,\n\u001B[1;32m      6\u001B[0m )\n\u001B[1;32m      8\u001B[0m \u001B[38;5;28mprint\u001B[39m(\u001B[38;5;124mf\u001B[39m\u001B[38;5;124m\"\u001B[39m\u001B[38;5;124mscalar property write-back: \u001B[39m\u001B[38;5;132;01m{\u001B[39;00mresult\u001B[38;5;132;01m}\u001B[39;00m\u001B[38;5;124m\"\u001B[39m)\n",
      "File \u001B[0;32m~/coding/work/graph-data-science-client/graphdatascience/server_version/compatible_with.py:39\u001B[0m, in \u001B[0;36mcompatible_with.<locals>.decorator.<locals>.wrapper\u001B[0;34m(self, *args, **kwargs)\u001B[0m\n\u001B[1;32m     33\u001B[0m \u001B[38;5;28;01mif\u001B[39;00m max_exclusive \u001B[38;5;129;01mand\u001B[39;00m \u001B[38;5;28mself\u001B[39m\u001B[38;5;241m.\u001B[39m_server_version \u001B[38;5;241m>\u001B[39m\u001B[38;5;241m=\u001B[39m max_exclusive:\n\u001B[1;32m     34\u001B[0m     \u001B[38;5;28;01mraise\u001B[39;00m IncompatibleServerVersionError(\n\u001B[1;32m     35\u001B[0m         \u001B[38;5;124mf\u001B[39m\u001B[38;5;124m\"\u001B[39m\u001B[38;5;124mThe call \u001B[39m\u001B[38;5;132;01m{\u001B[39;00m\u001B[38;5;28mself\u001B[39m\u001B[38;5;241m.\u001B[39m_namespace\u001B[38;5;132;01m}\u001B[39;00m\u001B[38;5;124m.\u001B[39m\u001B[38;5;132;01m{\u001B[39;00mfunc_name\u001B[38;5;132;01m}\u001B[39;00m\u001B[38;5;124m with parameters \u001B[39m\u001B[38;5;132;01m{\u001B[39;00mparameters\u001B[38;5;132;01m}\u001B[39;00m\u001B[38;5;124m requires GDS server \u001B[39m\u001B[38;5;124m\"\u001B[39m\n\u001B[1;32m     36\u001B[0m         \u001B[38;5;124mf\u001B[39m\u001B[38;5;124m\"\u001B[39m\u001B[38;5;124mversion < \u001B[39m\u001B[38;5;132;01m{\u001B[39;00mmax_exclusive\u001B[38;5;132;01m}\u001B[39;00m\u001B[38;5;124m. The current version is \u001B[39m\u001B[38;5;132;01m{\u001B[39;00m\u001B[38;5;28mself\u001B[39m\u001B[38;5;241m.\u001B[39m_server_version\u001B[38;5;132;01m}\u001B[39;00m\u001B[38;5;124m\"\u001B[39m\n\u001B[1;32m     37\u001B[0m     )\n\u001B[0;32m---> 39\u001B[0m \u001B[38;5;28;01mreturn\u001B[39;00m \u001B[43mfunc\u001B[49m\u001B[43m(\u001B[49m\u001B[38;5;28;43mself\u001B[39;49m\u001B[43m,\u001B[49m\u001B[43m \u001B[49m\u001B[38;5;241;43m*\u001B[39;49m\u001B[43margs\u001B[49m\u001B[43m,\u001B[49m\u001B[43m \u001B[49m\u001B[38;5;241;43m*\u001B[39;49m\u001B[38;5;241;43m*\u001B[39;49m\u001B[43mkwargs\u001B[49m\u001B[43m)\u001B[49m\n",
      "File \u001B[0;32m~/coding/work/graph-data-science-client/graphdatascience/graph/graph_entity_ops_runner.py:133\u001B[0m, in \u001B[0;36mGraphNodePropertiesRunner.write\u001B[0;34m(self, G, node_properties, node_labels, **config)\u001B[0m\n\u001B[1;32m    130\u001B[0m \u001B[38;5;129m@compatible_with\u001B[39m(\u001B[38;5;124m\"\u001B[39m\u001B[38;5;124mwrite\u001B[39m\u001B[38;5;124m\"\u001B[39m, min_inclusive\u001B[38;5;241m=\u001B[39mServerVersion(\u001B[38;5;241m2\u001B[39m, \u001B[38;5;241m2\u001B[39m, \u001B[38;5;241m0\u001B[39m))\n\u001B[1;32m    131\u001B[0m \u001B[38;5;28;01mdef\u001B[39;00m \u001B[38;5;21mwrite\u001B[39m(\u001B[38;5;28mself\u001B[39m, G: Graph, node_properties: List[\u001B[38;5;28mstr\u001B[39m], node_labels: Strings \u001B[38;5;241m=\u001B[39m [\u001B[38;5;124m\"\u001B[39m\u001B[38;5;124m*\u001B[39m\u001B[38;5;124m\"\u001B[39m], \u001B[38;5;241m*\u001B[39m\u001B[38;5;241m*\u001B[39mconfig: Any) \u001B[38;5;241m-\u001B[39m\u001B[38;5;241m>\u001B[39m \u001B[38;5;124m\"\u001B[39m\u001B[38;5;124mSeries[Any]\u001B[39m\u001B[38;5;124m\"\u001B[39m:\n\u001B[1;32m    132\u001B[0m     \u001B[38;5;28mself\u001B[39m\u001B[38;5;241m.\u001B[39m_namespace \u001B[38;5;241m+\u001B[39m\u001B[38;5;241m=\u001B[39m \u001B[38;5;124m\"\u001B[39m\u001B[38;5;124m.write\u001B[39m\u001B[38;5;124m\"\u001B[39m\n\u001B[0;32m--> 133\u001B[0m     \u001B[38;5;28;01mreturn\u001B[39;00m \u001B[38;5;28;43mself\u001B[39;49m\u001B[38;5;241;43m.\u001B[39;49m\u001B[43m_handle_properties\u001B[49m\u001B[43m(\u001B[49m\u001B[43mG\u001B[49m\u001B[43m,\u001B[49m\u001B[43m \u001B[49m\u001B[43mnode_properties\u001B[49m\u001B[43m,\u001B[49m\u001B[43m \u001B[49m\u001B[43mnode_labels\u001B[49m\u001B[43m,\u001B[49m\u001B[43m \u001B[49m\u001B[43mconfig\u001B[49m\u001B[43m)\u001B[49m\u001B[38;5;241m.\u001B[39msqueeze()\n",
      "File \u001B[0;32m~/coding/work/graph-data-science-client/graphdatascience/graph/graph_type_check.py:18\u001B[0m, in \u001B[0;36mgraph_type_check.<locals>.wrapper\u001B[0;34m(self, G, *args, **kwargs)\u001B[0m\n\u001B[1;32m     12\u001B[0m \u001B[38;5;28;01mif\u001B[39;00m \u001B[38;5;28misinstance\u001B[39m(G, \u001B[38;5;28mstr\u001B[39m):\n\u001B[1;32m     13\u001B[0m     \u001B[38;5;28;01mraise\u001B[39;00m \u001B[38;5;167;01mTypeError\u001B[39;00m(\n\u001B[1;32m     14\u001B[0m         \u001B[38;5;124mf\u001B[39m\u001B[38;5;124m\"\u001B[39m\u001B[38;5;124mThe parameter \u001B[39m\u001B[38;5;124m'\u001B[39m\u001B[38;5;124mG\u001B[39m\u001B[38;5;124m'\u001B[39m\u001B[38;5;124m takes a `Graph` object, but received string \u001B[39m\u001B[38;5;124m'\u001B[39m\u001B[38;5;132;01m{\u001B[39;00mG\u001B[38;5;132;01m}\u001B[39;00m\u001B[38;5;124m'\u001B[39m\u001B[38;5;124m. \u001B[39m\u001B[38;5;124m\"\u001B[39m\n\u001B[1;32m     15\u001B[0m         \u001B[38;5;124m\"\u001B[39m\u001B[38;5;124mTo resolve a graph name string into a `Graph` object, please use `gds.graph.get`\u001B[39m\u001B[38;5;124m\"\u001B[39m\n\u001B[1;32m     16\u001B[0m     )\n\u001B[0;32m---> 18\u001B[0m \u001B[38;5;28;01mreturn\u001B[39;00m \u001B[43mfunc\u001B[49m\u001B[43m(\u001B[49m\u001B[38;5;28;43mself\u001B[39;49m\u001B[43m,\u001B[49m\u001B[43m \u001B[49m\u001B[43mG\u001B[49m\u001B[43m,\u001B[49m\u001B[43m \u001B[49m\u001B[38;5;241;43m*\u001B[39;49m\u001B[43margs\u001B[49m\u001B[43m,\u001B[49m\u001B[43m \u001B[49m\u001B[38;5;241;43m*\u001B[39;49m\u001B[38;5;241;43m*\u001B[39;49m\u001B[43mkwargs\u001B[49m\u001B[43m)\u001B[49m\n",
      "File \u001B[0;32m~/coding/work/graph-data-science-client/graphdatascience/graph/graph_entity_ops_runner.py:59\u001B[0m, in \u001B[0;36mGraphEntityOpsBaseRunner._handle_properties\u001B[0;34m(self, G, properties, entities, config)\u001B[0m\n\u001B[1;32m     44\u001B[0m \u001B[38;5;129m@graph_type_check\u001B[39m\n\u001B[1;32m     45\u001B[0m \u001B[38;5;28;01mdef\u001B[39;00m \u001B[38;5;21m_handle_properties\u001B[39m(\n\u001B[1;32m     46\u001B[0m     \u001B[38;5;28mself\u001B[39m,\n\u001B[0;32m   (...)\u001B[0m\n\u001B[1;32m     50\u001B[0m     config: Dict[\u001B[38;5;28mstr\u001B[39m, Any],\n\u001B[1;32m     51\u001B[0m ) \u001B[38;5;241m-\u001B[39m\u001B[38;5;241m>\u001B[39m DataFrame:\n\u001B[1;32m     52\u001B[0m     params \u001B[38;5;241m=\u001B[39m CallParameters(\n\u001B[1;32m     53\u001B[0m         graph_name\u001B[38;5;241m=\u001B[39mG\u001B[38;5;241m.\u001B[39mname(),\n\u001B[1;32m     54\u001B[0m         properties\u001B[38;5;241m=\u001B[39mproperties,\n\u001B[1;32m     55\u001B[0m         entities\u001B[38;5;241m=\u001B[39mentities,\n\u001B[1;32m     56\u001B[0m         config\u001B[38;5;241m=\u001B[39mconfig,\n\u001B[1;32m     57\u001B[0m     )\n\u001B[0;32m---> 59\u001B[0m     \u001B[38;5;28;01mreturn\u001B[39;00m \u001B[38;5;28;43mself\u001B[39;49m\u001B[38;5;241;43m.\u001B[39;49m\u001B[43m_query_runner\u001B[49m\u001B[38;5;241;43m.\u001B[39;49m\u001B[43mcall_procedure\u001B[49m\u001B[43m(\u001B[49m\n\u001B[1;32m     60\u001B[0m \u001B[43m        \u001B[49m\u001B[43mendpoint\u001B[49m\u001B[38;5;241;43m=\u001B[39;49m\u001B[38;5;28;43mself\u001B[39;49m\u001B[38;5;241;43m.\u001B[39;49m\u001B[43m_namespace\u001B[49m\u001B[43m,\u001B[49m\n\u001B[1;32m     61\u001B[0m \u001B[43m        \u001B[49m\u001B[43mparams\u001B[49m\u001B[38;5;241;43m=\u001B[39;49m\u001B[43mparams\u001B[49m\u001B[43m,\u001B[49m\n\u001B[1;32m     62\u001B[0m \u001B[43m    \u001B[49m\u001B[43m)\u001B[49m\n",
      "File \u001B[0;32m~/coding/work/graph-data-science-client/graphdatascience/query_runner/aura_db_arrow_query_runner.py:97\u001B[0m, in \u001B[0;36mAuraDbArrowQueryRunner.call_procedure\u001B[0;34m(self, endpoint, params, yields, database, logging, custom_error)\u001B[0m\n\u001B[1;32m     89\u001B[0m     host, port_string \u001B[38;5;241m=\u001B[39m aura_db_arrow_endpoint\u001B[38;5;241m.\u001B[39msplit(\u001B[38;5;124m\"\u001B[39m\u001B[38;5;124m:\u001B[39m\u001B[38;5;124m\"\u001B[39m)\n\u001B[1;32m     90\u001B[0m     params[\u001B[38;5;124m\"\u001B[39m\u001B[38;5;124mconfig\u001B[39m\u001B[38;5;124m\"\u001B[39m][\u001B[38;5;124m\"\u001B[39m\u001B[38;5;124marrowConnectionInfo\u001B[39m\u001B[38;5;124m\"\u001B[39m] \u001B[38;5;241m=\u001B[39m {\n\u001B[1;32m     91\u001B[0m         \u001B[38;5;124m\"\u001B[39m\u001B[38;5;124mhostname\u001B[39m\u001B[38;5;124m\"\u001B[39m: host,\n\u001B[1;32m     92\u001B[0m         \u001B[38;5;124m\"\u001B[39m\u001B[38;5;124mport\u001B[39m\u001B[38;5;124m\"\u001B[39m: \u001B[38;5;28mint\u001B[39m(port_string),\n\u001B[1;32m     93\u001B[0m         \u001B[38;5;124m\"\u001B[39m\u001B[38;5;124mbearerToken\u001B[39m\u001B[38;5;124m\"\u001B[39m: token,\n\u001B[1;32m     94\u001B[0m         \u001B[38;5;124m\"\u001B[39m\u001B[38;5;124museEncryption\u001B[39m\u001B[38;5;124m\"\u001B[39m: \u001B[38;5;28mself\u001B[39m\u001B[38;5;241m.\u001B[39m_encrypted,\n\u001B[1;32m     95\u001B[0m     }\n\u001B[0;32m---> 97\u001B[0m \u001B[38;5;28;01mreturn\u001B[39;00m \u001B[38;5;28;43mself\u001B[39;49m\u001B[38;5;241;43m.\u001B[39;49m\u001B[43m_gds_query_runner\u001B[49m\u001B[38;5;241;43m.\u001B[39;49m\u001B[43mcall_procedure\u001B[49m\u001B[43m(\u001B[49m\u001B[43mendpoint\u001B[49m\u001B[43m,\u001B[49m\u001B[43m \u001B[49m\u001B[43mparams\u001B[49m\u001B[43m,\u001B[49m\u001B[43m \u001B[49m\u001B[43myields\u001B[49m\u001B[43m,\u001B[49m\u001B[43m \u001B[49m\u001B[43mdatabase\u001B[49m\u001B[43m,\u001B[49m\u001B[43m \u001B[49m\u001B[43mlogging\u001B[49m\u001B[43m,\u001B[49m\u001B[43m \u001B[49m\u001B[43mcustom_error\u001B[49m\u001B[43m)\u001B[49m\n",
      "File \u001B[0;32m~/coding/work/graph-data-science-client/graphdatascience/query_runner/arrow_query_runner.py:219\u001B[0m, in \u001B[0;36mArrowQueryRunner.call_procedure\u001B[0;34m(self, endpoint, params, yields, database, logging, custom_error)\u001B[0m\n\u001B[1;32m    212\u001B[0m                 \u001B[38;5;28mself\u001B[39m\u001B[38;5;241m.\u001B[39mwarn_about_deprecation(\n\u001B[1;32m    213\u001B[0m                     old_endpoint\u001B[38;5;241m=\u001B[39m\u001B[38;5;124m\"\u001B[39m\u001B[38;5;124mgds.beta.graph.relationships.stream\u001B[39m\u001B[38;5;124m\"\u001B[39m,\n\u001B[1;32m    214\u001B[0m                     new_endpoint\u001B[38;5;241m=\u001B[39m\u001B[38;5;124m\"\u001B[39m\u001B[38;5;124mgds.graph.relationships.stream\u001B[39m\u001B[38;5;124m\"\u001B[39m,\n\u001B[1;32m    215\u001B[0m                 )\n\u001B[1;32m    217\u001B[0m     \u001B[38;5;28;01mreturn\u001B[39;00m \u001B[38;5;28mself\u001B[39m\u001B[38;5;241m.\u001B[39m_run_arrow_property_get(graph_name, endpoint, {\u001B[38;5;124m\"\u001B[39m\u001B[38;5;124mrelationship_types\u001B[39m\u001B[38;5;124m\"\u001B[39m: relationship_types})\n\u001B[0;32m--> 219\u001B[0m \u001B[38;5;28;01mreturn\u001B[39;00m \u001B[38;5;28;43mself\u001B[39;49m\u001B[38;5;241;43m.\u001B[39;49m\u001B[43m_fallback_query_runner\u001B[49m\u001B[38;5;241;43m.\u001B[39;49m\u001B[43mcall_procedure\u001B[49m\u001B[43m(\u001B[49m\u001B[43mendpoint\u001B[49m\u001B[43m,\u001B[49m\u001B[43m \u001B[49m\u001B[43mparams\u001B[49m\u001B[43m,\u001B[49m\u001B[43m \u001B[49m\u001B[43myields\u001B[49m\u001B[43m,\u001B[49m\u001B[43m \u001B[49m\u001B[43mdatabase\u001B[49m\u001B[43m,\u001B[49m\u001B[43m \u001B[49m\u001B[43mlogging\u001B[49m\u001B[43m,\u001B[49m\u001B[43m \u001B[49m\u001B[43mcustom_error\u001B[49m\u001B[43m)\u001B[49m\n",
      "File \u001B[0;32m~/coding/work/graph-data-science-client/graphdatascience/query_runner/neo4j_query_runner.py:153\u001B[0m, in \u001B[0;36mNeo4jQueryRunner.call_procedure\u001B[0;34m(self, endpoint, params, yields, database, logging, custom_error)\u001B[0m\n\u001B[1;32m    151\u001B[0m     \u001B[38;5;28;01mreturn\u001B[39;00m \u001B[38;5;28mself\u001B[39m\u001B[38;5;241m.\u001B[39mrun_cypher_with_logging(query, params, database)\n\u001B[1;32m    152\u001B[0m \u001B[38;5;28;01melse\u001B[39;00m:\n\u001B[0;32m--> 153\u001B[0m     \u001B[38;5;28;01mreturn\u001B[39;00m \u001B[38;5;28;43mself\u001B[39;49m\u001B[38;5;241;43m.\u001B[39;49m\u001B[43mrun_cypher\u001B[49m\u001B[43m(\u001B[49m\u001B[43mquery\u001B[49m\u001B[43m,\u001B[49m\u001B[43m \u001B[49m\u001B[43mparams\u001B[49m\u001B[43m,\u001B[49m\u001B[43m \u001B[49m\u001B[43mdatabase\u001B[49m\u001B[43m,\u001B[49m\u001B[43m \u001B[49m\u001B[43mcustom_error\u001B[49m\u001B[43m)\u001B[49m\n",
      "File \u001B[0;32m~/coding/work/graph-data-science-client/graphdatascience/query_runner/neo4j_query_runner.py:121\u001B[0m, in \u001B[0;36mNeo4jQueryRunner.run_cypher\u001B[0;34m(self, query, params, database, custom_error)\u001B[0m\n\u001B[1;32m    114\u001B[0m \u001B[38;5;66;03m# Though pandas support may be experimental in the `neo4j` package, it should always\u001B[39;00m\n\u001B[1;32m    115\u001B[0m \u001B[38;5;66;03m# be supported in the `graphdatascience` package.\u001B[39;00m\n\u001B[1;32m    116\u001B[0m warnings\u001B[38;5;241m.\u001B[39mfilterwarnings(\n\u001B[1;32m    117\u001B[0m     \u001B[38;5;124m\"\u001B[39m\u001B[38;5;124mignore\u001B[39m\u001B[38;5;124m\"\u001B[39m,\n\u001B[1;32m    118\u001B[0m     message\u001B[38;5;241m=\u001B[39m\u001B[38;5;124mr\u001B[39m\u001B[38;5;124m\"\u001B[39m\u001B[38;5;124m^pandas support is experimental and might be changed or removed in future versions$\u001B[39m\u001B[38;5;124m\"\u001B[39m,\n\u001B[1;32m    119\u001B[0m )\n\u001B[0;32m--> 121\u001B[0m df \u001B[38;5;241m=\u001B[39m \u001B[43mresult\u001B[49m\u001B[38;5;241;43m.\u001B[39;49m\u001B[43mto_df\u001B[49m\u001B[43m(\u001B[49m\u001B[43m)\u001B[49m\n\u001B[1;32m    123\u001B[0m \u001B[38;5;28;01mif\u001B[39;00m \u001B[38;5;28mself\u001B[39m\u001B[38;5;241m.\u001B[39m_NEO4J_DRIVER_VERSION \u001B[38;5;241m<\u001B[39m ServerVersion(\u001B[38;5;241m5\u001B[39m, \u001B[38;5;241m0\u001B[39m, \u001B[38;5;241m0\u001B[39m):\n\u001B[1;32m    124\u001B[0m     \u001B[38;5;28mself\u001B[39m\u001B[38;5;241m.\u001B[39m_last_bookmarks \u001B[38;5;241m=\u001B[39m [session\u001B[38;5;241m.\u001B[39mlast_bookmark()]\n",
      "File \u001B[0;32m~/coding/work/graph-data-science-client/venv/lib/python3.11/site-packages/neo4j/_sync/work/result.py:748\u001B[0m, in \u001B[0;36mResult.to_df\u001B[0;34m(self, expand, parse_dates)\u001B[0m\n\u001B[1;32m    745\u001B[0m \u001B[38;5;28;01mimport\u001B[39;00m \u001B[38;5;21;01mpandas\u001B[39;00m \u001B[38;5;28;01mas\u001B[39;00m \u001B[38;5;21;01mpd\u001B[39;00m  \u001B[38;5;66;03m# type: ignore[import]\u001B[39;00m\n\u001B[1;32m    747\u001B[0m \u001B[38;5;28;01mif\u001B[39;00m \u001B[38;5;129;01mnot\u001B[39;00m expand:\n\u001B[0;32m--> 748\u001B[0m     df \u001B[38;5;241m=\u001B[39m pd\u001B[38;5;241m.\u001B[39mDataFrame(\u001B[38;5;28;43mself\u001B[39;49m\u001B[38;5;241;43m.\u001B[39;49m\u001B[43mvalues\u001B[49m\u001B[43m(\u001B[49m\u001B[43m)\u001B[49m, columns\u001B[38;5;241m=\u001B[39m\u001B[38;5;28mself\u001B[39m\u001B[38;5;241m.\u001B[39m_keys)\n\u001B[1;32m    749\u001B[0m \u001B[38;5;28;01melse\u001B[39;00m:\n\u001B[1;32m    750\u001B[0m     df_keys \u001B[38;5;241m=\u001B[39m \u001B[38;5;28;01mNone\u001B[39;00m\n",
      "File \u001B[0;32m~/coding/work/graph-data-science-client/venv/lib/python3.11/site-packages/neo4j/_sync/work/result.py:603\u001B[0m, in \u001B[0;36mResult.values\u001B[0;34m(self, *keys)\u001B[0m\n\u001B[1;32m    585\u001B[0m \u001B[38;5;28;01mdef\u001B[39;00m \u001B[38;5;21mvalues\u001B[39m(\n\u001B[1;32m    586\u001B[0m     \u001B[38;5;28mself\u001B[39m, \u001B[38;5;241m*\u001B[39mkeys: _TResultKey\n\u001B[1;32m    587\u001B[0m ) \u001B[38;5;241m-\u001B[39m\u001B[38;5;241m>\u001B[39m t\u001B[38;5;241m.\u001B[39mList[t\u001B[38;5;241m.\u001B[39mList[t\u001B[38;5;241m.\u001B[39mAny]]:\n\u001B[1;32m    588\u001B[0m \u001B[38;5;250m    \u001B[39m\u001B[38;5;124;03m\"\"\"Return the remainder of the result as a list of values lists.\u001B[39;00m\n\u001B[1;32m    589\u001B[0m \n\u001B[1;32m    590\u001B[0m \u001B[38;5;124;03m    :param keys: fields to return for each remaining record. Optionally filtering to include only certain values by index or key.\u001B[39;00m\n\u001B[0;32m   (...)\u001B[0m\n\u001B[1;32m    601\u001B[0m \u001B[38;5;124;03m    .. seealso:: :meth:`.Record.values`\u001B[39;00m\n\u001B[1;32m    602\u001B[0m \u001B[38;5;124;03m    \"\"\"\u001B[39;00m\n\u001B[0;32m--> 603\u001B[0m     \u001B[38;5;28;01mreturn\u001B[39;00m \u001B[43m[\u001B[49m\u001B[43mrecord\u001B[49m\u001B[38;5;241;43m.\u001B[39;49m\u001B[43mvalues\u001B[49m\u001B[43m(\u001B[49m\u001B[38;5;241;43m*\u001B[39;49m\u001B[43mkeys\u001B[49m\u001B[43m)\u001B[49m\u001B[43m \u001B[49m\u001B[38;5;28;43;01mfor\u001B[39;49;00m\u001B[43m \u001B[49m\u001B[43mrecord\u001B[49m\u001B[43m \u001B[49m\u001B[38;5;129;43;01min\u001B[39;49;00m\u001B[43m \u001B[49m\u001B[38;5;28;43mself\u001B[39;49m\u001B[43m]\u001B[49m\n",
      "File \u001B[0;32m~/coding/work/graph-data-science-client/venv/lib/python3.11/site-packages/neo4j/_sync/work/result.py:603\u001B[0m, in \u001B[0;36m<listcomp>\u001B[0;34m(.0)\u001B[0m\n\u001B[1;32m    585\u001B[0m \u001B[38;5;28;01mdef\u001B[39;00m \u001B[38;5;21mvalues\u001B[39m(\n\u001B[1;32m    586\u001B[0m     \u001B[38;5;28mself\u001B[39m, \u001B[38;5;241m*\u001B[39mkeys: _TResultKey\n\u001B[1;32m    587\u001B[0m ) \u001B[38;5;241m-\u001B[39m\u001B[38;5;241m>\u001B[39m t\u001B[38;5;241m.\u001B[39mList[t\u001B[38;5;241m.\u001B[39mList[t\u001B[38;5;241m.\u001B[39mAny]]:\n\u001B[1;32m    588\u001B[0m \u001B[38;5;250m    \u001B[39m\u001B[38;5;124;03m\"\"\"Return the remainder of the result as a list of values lists.\u001B[39;00m\n\u001B[1;32m    589\u001B[0m \n\u001B[1;32m    590\u001B[0m \u001B[38;5;124;03m    :param keys: fields to return for each remaining record. Optionally filtering to include only certain values by index or key.\u001B[39;00m\n\u001B[0;32m   (...)\u001B[0m\n\u001B[1;32m    601\u001B[0m \u001B[38;5;124;03m    .. seealso:: :meth:`.Record.values`\u001B[39;00m\n\u001B[1;32m    602\u001B[0m \u001B[38;5;124;03m    \"\"\"\u001B[39;00m\n\u001B[0;32m--> 603\u001B[0m     \u001B[38;5;28;01mreturn\u001B[39;00m \u001B[43m[\u001B[49m\u001B[43mrecord\u001B[49m\u001B[38;5;241;43m.\u001B[39;49m\u001B[43mvalues\u001B[49m\u001B[43m(\u001B[49m\u001B[38;5;241;43m*\u001B[39;49m\u001B[43mkeys\u001B[49m\u001B[43m)\u001B[49m\u001B[43m \u001B[49m\u001B[38;5;28;43;01mfor\u001B[39;49;00m\u001B[43m \u001B[49m\u001B[43mrecord\u001B[49m\u001B[43m \u001B[49m\u001B[38;5;129;43;01min\u001B[39;49;00m\u001B[43m \u001B[49m\u001B[38;5;28;43mself\u001B[39;49m\u001B[43m]\u001B[49m\n",
      "File \u001B[0;32m~/coding/work/graph-data-science-client/venv/lib/python3.11/site-packages/neo4j/_sync/work/result.py:266\u001B[0m, in \u001B[0;36mResult.__iter__\u001B[0;34m(self)\u001B[0m\n\u001B[1;32m    264\u001B[0m     \u001B[38;5;28;01myield\u001B[39;00m \u001B[38;5;28mself\u001B[39m\u001B[38;5;241m.\u001B[39m_record_buffer\u001B[38;5;241m.\u001B[39mpopleft()\n\u001B[1;32m    265\u001B[0m \u001B[38;5;28;01melif\u001B[39;00m \u001B[38;5;28mself\u001B[39m\u001B[38;5;241m.\u001B[39m_streaming:\n\u001B[0;32m--> 266\u001B[0m     \u001B[38;5;28;43mself\u001B[39;49m\u001B[38;5;241;43m.\u001B[39;49m\u001B[43m_connection\u001B[49m\u001B[38;5;241;43m.\u001B[39;49m\u001B[43mfetch_message\u001B[49m\u001B[43m(\u001B[49m\u001B[43m)\u001B[49m\n\u001B[1;32m    267\u001B[0m \u001B[38;5;28;01melif\u001B[39;00m \u001B[38;5;28mself\u001B[39m\u001B[38;5;241m.\u001B[39m_discarding:\n\u001B[1;32m    268\u001B[0m     \u001B[38;5;28mself\u001B[39m\u001B[38;5;241m.\u001B[39m_discard()\n",
      "File \u001B[0;32m~/coding/work/graph-data-science-client/venv/lib/python3.11/site-packages/neo4j/_sync/io/_common.py:180\u001B[0m, in \u001B[0;36mConnectionErrorHandler.__getattr__.<locals>.outer.<locals>.inner\u001B[0;34m(*args, **kwargs)\u001B[0m\n\u001B[1;32m    178\u001B[0m \u001B[38;5;28;01mdef\u001B[39;00m \u001B[38;5;21minner\u001B[39m(\u001B[38;5;241m*\u001B[39margs, \u001B[38;5;241m*\u001B[39m\u001B[38;5;241m*\u001B[39mkwargs):\n\u001B[1;32m    179\u001B[0m     \u001B[38;5;28;01mtry\u001B[39;00m:\n\u001B[0;32m--> 180\u001B[0m         \u001B[43mfunc\u001B[49m\u001B[43m(\u001B[49m\u001B[38;5;241;43m*\u001B[39;49m\u001B[43margs\u001B[49m\u001B[43m,\u001B[49m\u001B[43m \u001B[49m\u001B[38;5;241;43m*\u001B[39;49m\u001B[38;5;241;43m*\u001B[39;49m\u001B[43mkwargs\u001B[49m\u001B[43m)\u001B[49m\n\u001B[1;32m    181\u001B[0m     \u001B[38;5;28;01mexcept\u001B[39;00m (Neo4jError, ServiceUnavailable, SessionExpired) \u001B[38;5;28;01mas\u001B[39;00m exc:\n\u001B[1;32m    182\u001B[0m         \u001B[38;5;28;01massert\u001B[39;00m \u001B[38;5;129;01mnot\u001B[39;00m asyncio\u001B[38;5;241m.\u001B[39miscoroutinefunction(\u001B[38;5;28mself\u001B[39m\u001B[38;5;241m.\u001B[39m__on_error)\n",
      "File \u001B[0;32m~/coding/work/graph-data-science-client/venv/lib/python3.11/site-packages/neo4j/_sync/io/_bolt.py:851\u001B[0m, in \u001B[0;36mBolt.fetch_message\u001B[0;34m(self)\u001B[0m\n\u001B[1;32m    847\u001B[0m \u001B[38;5;66;03m# Receive exactly one message\u001B[39;00m\n\u001B[1;32m    848\u001B[0m tag, fields \u001B[38;5;241m=\u001B[39m \u001B[38;5;28mself\u001B[39m\u001B[38;5;241m.\u001B[39minbox\u001B[38;5;241m.\u001B[39mpop(\n\u001B[1;32m    849\u001B[0m     hydration_hooks\u001B[38;5;241m=\u001B[39m\u001B[38;5;28mself\u001B[39m\u001B[38;5;241m.\u001B[39mresponses[\u001B[38;5;241m0\u001B[39m]\u001B[38;5;241m.\u001B[39mhydration_hooks\n\u001B[1;32m    850\u001B[0m )\n\u001B[0;32m--> 851\u001B[0m res \u001B[38;5;241m=\u001B[39m \u001B[38;5;28;43mself\u001B[39;49m\u001B[38;5;241;43m.\u001B[39;49m\u001B[43m_process_message\u001B[49m\u001B[43m(\u001B[49m\u001B[43mtag\u001B[49m\u001B[43m,\u001B[49m\u001B[43m \u001B[49m\u001B[43mfields\u001B[49m\u001B[43m)\u001B[49m\n\u001B[1;32m    852\u001B[0m \u001B[38;5;28mself\u001B[39m\u001B[38;5;241m.\u001B[39midle_since \u001B[38;5;241m=\u001B[39m perf_counter()\n\u001B[1;32m    853\u001B[0m \u001B[38;5;28;01mreturn\u001B[39;00m res\n",
      "File \u001B[0;32m~/coding/work/graph-data-science-client/venv/lib/python3.11/site-packages/neo4j/_sync/io/_bolt5.py:376\u001B[0m, in \u001B[0;36mBolt5x0._process_message\u001B[0;34m(self, tag, fields)\u001B[0m\n\u001B[1;32m    374\u001B[0m \u001B[38;5;28mself\u001B[39m\u001B[38;5;241m.\u001B[39m_server_state_manager\u001B[38;5;241m.\u001B[39mstate \u001B[38;5;241m=\u001B[39m \u001B[38;5;28mself\u001B[39m\u001B[38;5;241m.\u001B[39mbolt_states\u001B[38;5;241m.\u001B[39mFAILED\n\u001B[1;32m    375\u001B[0m \u001B[38;5;28;01mtry\u001B[39;00m:\n\u001B[0;32m--> 376\u001B[0m     \u001B[43mresponse\u001B[49m\u001B[38;5;241;43m.\u001B[39;49m\u001B[43mon_failure\u001B[49m\u001B[43m(\u001B[49m\u001B[43msummary_metadata\u001B[49m\u001B[43m \u001B[49m\u001B[38;5;129;43;01mor\u001B[39;49;00m\u001B[43m \u001B[49m\u001B[43m{\u001B[49m\u001B[43m}\u001B[49m\u001B[43m)\u001B[49m\n\u001B[1;32m    377\u001B[0m \u001B[38;5;28;01mexcept\u001B[39;00m (ServiceUnavailable, DatabaseUnavailable):\n\u001B[1;32m    378\u001B[0m     \u001B[38;5;28;01mif\u001B[39;00m \u001B[38;5;28mself\u001B[39m\u001B[38;5;241m.\u001B[39mpool:\n",
      "File \u001B[0;32m~/coding/work/graph-data-science-client/venv/lib/python3.11/site-packages/neo4j/_sync/io/_common.py:247\u001B[0m, in \u001B[0;36mResponse.on_failure\u001B[0;34m(self, metadata)\u001B[0m\n\u001B[1;32m    245\u001B[0m handler \u001B[38;5;241m=\u001B[39m \u001B[38;5;28mself\u001B[39m\u001B[38;5;241m.\u001B[39mhandlers\u001B[38;5;241m.\u001B[39mget(\u001B[38;5;124m\"\u001B[39m\u001B[38;5;124mon_summary\u001B[39m\u001B[38;5;124m\"\u001B[39m)\n\u001B[1;32m    246\u001B[0m Util\u001B[38;5;241m.\u001B[39mcallback(handler)\n\u001B[0;32m--> 247\u001B[0m \u001B[38;5;28;01mraise\u001B[39;00m Neo4jError\u001B[38;5;241m.\u001B[39mhydrate(\u001B[38;5;241m*\u001B[39m\u001B[38;5;241m*\u001B[39mmetadata)\n",
      "\u001B[0;31mClientError\u001B[0m: {code: Neo.ClientError.Procedure.ProcedureCallFailed} {message: Failed to invoke procedure `gds.graph.nodeProperties.write`: Caused by: com.neo4j.gds.shaded.org.apache.arrow.flight.FlightRuntimeException: INTERNAL: org.apache.arrow.flight.FlightRuntimeException: UNKNOWN: java.util.concurrent.ExecutionException: java.lang.RuntimeException: java.lang.NullPointerException: Cannot invoke \"org.neo4j.internal.kernel.api.security.LoginContext.authorize(org.neo4j.internal.kernel.api.security.LoginContext$IdLookup, String, org.neo4j.internal.kernel.api.security.AbstractSecurityLog)\" because \"loginContext\" is null\njava.util.concurrent.ExecutionException: java.lang.RuntimeException: java.lang.NullPointerException: Cannot invoke \"org.neo4j.internal.kernel.api.security.LoginContext.authorize(org.neo4j.internal.kernel.api.security.LoginContext$IdLookup, String, org.neo4j.internal.kernel.api.security.AbstractSecurityLog)\" because \"loginContext\" is null}"
     ]
    }
   ],
   "source": [
    "result = measure(\n",
    "    lambda: gds.graph.nodeProperties.write(G, node_properties=[\"degree\"]),\n",
    "    lambda: gds.run_cypher(\"MATCH (n) CALL { WITH n REMOVE n.degree} IN TRANSACTIONS  OF 2000 ROWS\"),\n",
    "    iterations=1,\n",
    "    warmup_iterations=1,\n",
    ")\n",
    "\n",
    "print(f\"scalar property write-back: {result}\")"
   ]
  },
  {
   "cell_type": "code",
   "execution_count": null,
   "metadata": {},
   "outputs": [],
   "source": [
    "gds.fastRP.mutate(G, mutateProperty=\"embedding\", embeddingDimension=10, iterationWeights=[1.0])"
   ]
  },
  {
   "cell_type": "code",
   "execution_count": null,
   "metadata": {},
   "outputs": [],
   "source": [
    "result = measure(\n",
    "    lambda: gds.graph.nodeProperties.write(G, node_properties=[\"embedding\"]),\n",
    "    lambda: gds.run_cypher(\"MATCH (n) CALL { WITH n REMOVE n.embedding} IN TRANSACTIONS  OF 2000 ROWS\"),\n",
    "    iterations=1,\n",
    "    warmup_iterations=1,\n",
    ")\n",
    "\n",
    "print(f\"scalar property write-back: {result}\")"
   ]
  },
  {
   "cell_type": "markdown",
   "metadata": {},
   "source": [
    "### Relationship"
   ]
  },
  {
   "cell_type": "code",
   "execution_count": null,
   "metadata": {},
   "outputs": [],
   "source": [
    "matched_nodes = gds.run_cypher(\"MATCH (n)-[r]->() WITH count(r) as degree, n WHERE degree > 5 RETURN id(n) ORDER BY id(n) DESC LIMIT 2\").squeeze()"
   ]
  },
  {
   "cell_type": "code",
   "execution_count": null,
   "metadata": {},
   "outputs": [],
   "source": [
    "gds.allShortestPaths.delta.mutate(\n",
    "    G, sourceNode=matched_nodes[0], mutateRelationshipType=\"MUTATED_RELS\", concurrency=6\n",
    ")"
   ]
  },
  {
   "cell_type": "code",
   "execution_count": null,
   "metadata": {},
   "outputs": [],
   "source": [
    "gds.graph.relationship.write(G, relationship_type=\"MUTATED_RELS\", relationship_property=\"totalCost\")"
   ]
  },
  {
   "cell_type": "code",
   "execution_count": null,
   "metadata": {},
   "outputs": [],
   "source": [
    "# cleanup rels\n",
    "\n",
    "writted_rels_count = gds.run_cypher(\"MATCH ()-[r:MUTATED_RELS]->() RETURN count(r)\")\n",
    "print(f\"written rels: {writted_rels_count}\")\n",
    "gds.run_cypher(\"MATCH ()-[r:MUTATED_RELS]->() CALL { WITH r DELETE r} IN TRANSACTIONS  OF 2000 ROWS\")"
   ]
  },
  {
   "cell_type": "code",
   "execution_count": null,
   "metadata": {},
   "outputs": [],
   "source": [
    "result = timeit.repeat(\n",
    "    lambda: gds.run_cypher(\"MATCH (n)-[r:KNN_RELS]->() DELETE r\"),\n",
    "    lambda: gds.graph.relationship.write(G, relationship_type=\"KNN_RELS\", relationship_property=\"score\"),\n",
    "    number=1,\n",
    "    repeat=iterations,\n",
    ")\n",
    "\n",
    "print(f\"relationships: {result}\")"
   ]
  },
  {
   "cell_type": "markdown",
   "metadata": {},
   "source": [
    "## Cleanup"
   ]
  },
  {
   "cell_type": "code",
   "execution_count": null,
   "metadata": {},
   "outputs": [],
   "source": [
    "gds.graph.drop(\"graph\")"
   ]
  },
  {
   "cell_type": "code",
   "execution_count": null,
   "metadata": {},
   "outputs": [],
   "source": [
    "sessions.delete_gds(session_name)"
   ]
  },
  {
   "cell_type": "code",
   "execution_count": null,
   "metadata": {},
   "outputs": [],
   "source": []
  },
  {
   "cell_type": "code",
   "execution_count": null,
   "metadata": {},
   "outputs": [],
   "source": [
    "# cleanup\n",
    "\n",
    "from graphdatascience.aura_api import AuraApi\n",
    "\n",
    "aura_api = AuraApi(CLIENT_ID, CLIENT_SECRET)\n",
    "aura_api.delete_instance(DB_ID)"
   ]
  }
 ],
 "metadata": {
  "kernelspec": {
   "display_name": "Python 3",
   "language": "python",
   "name": "python3"
  },
  "language_info": {
   "codemirror_mode": {
    "name": "ipython",
    "version": 3
   },
   "file_extension": ".py",
   "mimetype": "text/x-python",
   "name": "python",
   "nbconvert_exporter": "python",
   "pygments_lexer": "ipython3",
   "version": "3.11.6"
  }
 },
 "nbformat": 4,
 "nbformat_minor": 2
}
