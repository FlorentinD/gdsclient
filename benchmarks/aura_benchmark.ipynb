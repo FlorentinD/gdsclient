{
 "cells": [
  {
   "cell_type": "markdown",
   "metadata": {},
   "source": [
    "# Benchmarking Aura features"
   ]
  },
  {
   "cell_type": "code",
   "execution_count": null,
   "metadata": {},
   "outputs": [],
   "source": [
    "import os\n",
    "import timeit\n",
    "\n",
    "import numpy as np\n",
    "import seaborn as sns\n",
    "from tqdm import tqdm\n",
    "\n",
    "from graphdatascience.aura_sessions import AuraSessions\n",
    "from graphdatascience.query_runner.aura_db_arrow_query_runner import AuraDbConnectionInfo"
   ]
  },
  {
   "cell_type": "code",
   "execution_count": null,
   "metadata": {},
   "outputs": [],
   "source": [
    "CLIENT_ID = \"\"\n",
    "CLIENT_SECRET = \"\"\n",
    "DB_PASSWORD = \"\"\n",
    "DB_ID = \"\"\n",
    "os.environ[\"AURA_ENV\"] = \"devstrawberry\"\n",
    "\n",
    "db_connection_info = AuraDbConnectionInfo(\n",
    "    f\"neo4j+s://{DB_ID}-{os.environ['AURA_ENV']}.databases.neo4j-dev.io\", (\"neo4j\", DB_PASSWORD)\n",
    ")"
   ]
  },
  {
   "cell_type": "code",
   "execution_count": null,
   "metadata": {},
   "outputs": [],
   "source": [
    "sessions = AuraSessions(db_connection_info, (CLIENT_ID, CLIENT_SECRET))\n",
    "session_name = \"benchmark-session\"\n",
    "session_pw = \"my-password\"\n",
    "\n",
    "print(\"Starting GDS session\")\n",
    "if session_name in [i.name for i in sessions.list_sessions()]:\n",
    "    gds = sessions.connect(session_name, session_pw)\n",
    "else:\n",
    "    gds = sessions.create_gds(session_name, session_pw, \"24GB\")"
   ]
  },
  {
   "cell_type": "code",
   "execution_count": null,
   "metadata": {},
   "outputs": [],
   "source": [
    "def measure(func, setup, iterations, warmup_iterations):\n",
    "    pbar = tqdm(total=iterations + warmup_iterations)\n",
    "\n",
    "    def wrapper():\n",
    "        value = func()\n",
    "        pbar.update(1)\n",
    "        return value\n",
    "\n",
    "    pbar.set_description(\"Warmup\")\n",
    "    warmup = timeit.repeat(wrapper, setup=setup, number=1, repeat=warmup_iterations)\n",
    "\n",
    "    pbar.set_description(\"Measurement\")\n",
    "    measurement = timeit.repeat(wrapper, setup=setup, number=1, repeat=iterations)\n",
    "\n",
    "    pbar.close()\n",
    "\n",
    "    return {\"iterations\": measurement, \"mean\": np.mean(measurement), \"avg\": np.average(measurement)}"
   ]
  },
  {
   "cell_type": "markdown",
   "metadata": {
    "collapsed": false
   },
   "source": [
    "## Projection"
   ]
  },
  {
   "cell_type": "code",
   "execution_count": null,
   "metadata": {},
   "outputs": [],
   "source": [
    "def run_remote_projection(query, concurrency):\n",
    "    with gds.graph.project.remoteDb(\"graph\", query, concurrency=concurrency) as G:\n",
    "        ()"
   ]
  },
  {
   "cell_type": "code",
   "execution_count": null,
   "metadata": {},
   "outputs": [],
   "source": [
    "run_remote_projection(\n",
    "    \"\"\"\n",
    "    CYPHER runtime = parallel\n",
    "    MATCH (u)\n",
    "    OPTIONAL MATCH (u)-[r]->(t)\n",
    "    RETURN gds.graph.project.remote(u, t, {})\n",
    "    \"\"\",\n",
    "    concurrency=1,\n",
    ")"
   ]
  },
  {
   "cell_type": "markdown",
   "metadata": {
    "collapsed": false
   },
   "source": [
    "### Project entire graph, structure only"
   ]
  },
  {
   "cell_type": "markdown",
   "metadata": {
    "collapsed": false
   },
   "source": [
    "#### No parallel Runtime"
   ]
  },
  {
   "cell_type": "code",
   "execution_count": null,
   "metadata": {},
   "outputs": [],
   "source": [
    "data = {}\n",
    "for concurrency in [8]:\n",
    "    result = measure(\n",
    "        lambda: run_remote_projection(\n",
    "            \"\"\"\n",
    "            MATCH (u)\n",
    "            OPTIONAL MATCH (u)-[r]->(t)\n",
    "            RETURN gds.graph.project.remote(u, t, null)\n",
    "            \"\"\",\n",
    "            concurrency=concurrency,\n",
    "        ),\n",
    "        lambda: gds.graph.drop(\"graph\", failIfMissing=False),\n",
    "        iterations=1,\n",
    "        warmup_iterations=1,\n",
    "    )\n",
    "    data[concurrency] = result"
   ]
  },
  {
   "cell_type": "code",
   "execution_count": null,
   "metadata": {},
   "outputs": [],
   "source": [
    "values = {k: v[\"mean\"] for k, v in list(data.items())}\n",
    "\n",
    "plot = sns.barplot(values)\n",
    "plot.set(xlabel=\"concurrency\", ylabel=\"average runtime\")"
   ]
  },
  {
   "cell_type": "markdown",
   "metadata": {
    "collapsed": false
   },
   "source": [
    "#### Parallel Runtime"
   ]
  },
  {
   "cell_type": "code",
   "execution_count": null,
   "metadata": {},
   "outputs": [],
   "source": [
    "data = {}\n",
    "for concurrency in [8]:\n",
    "    result = measure(\n",
    "        lambda: run_remote_projection(\n",
    "            \"\"\"\n",
    "            CYPHER runtime = parallel\n",
    "            MATCH (u)\n",
    "            OPTIONAL MATCH (u)-[r]->(t)\n",
    "            RETURN gds.graph.project.remote(u, t, null)\n",
    "            \"\"\",\n",
    "            concurrency=concurrency,\n",
    "        ),\n",
    "        lambda: (),\n",
    "        iterations=1,\n",
    "        warmup_iterations=1,\n",
    "    )\n",
    "    data[concurrency] = result\n",
    "\n",
    "plot = sns.barplot({k: v[\"mean\"] for k, v in data.items()})\n",
    "plot.set(xlabel=\"concurrency\", ylabel=\"average runtime\")"
   ]
  },
  {
   "cell_type": "markdown",
   "metadata": {
    "collapsed": false
   },
   "source": [
    "### Project entire graph, with properties and labels"
   ]
  },
  {
   "cell_type": "code",
   "execution_count": null,
   "metadata": {},
   "outputs": [],
   "source": [
    "query = \"\"\" CYPHER runtime = parallel\n",
    "            MATCH (u)\n",
    "            OPTIONAL MATCH (u)-[r]->(t)\n",
    "            RETURN gds.graph.project.remote(u, t, {\n",
    "                sourceNodeLabels: labels(u),\n",
    "                sourceNodeProperties: {id: id(u)},\n",
    "                targetNodeLabels: labels(t),\n",
    "                targetNodeProperties: {id: id(t)},\n",
    "                relationshipType: type(r),\n",
    "                relationshipProperties: {id: id(r)}\n",
    "            })\n",
    "        \"\"\"\n",
    "\n",
    "data = {}\n",
    "for concurrency in [8]:\n",
    "    result = measure(\n",
    "        lambda: run_remote_projection(query, concurrency=concurrency), lambda: (), iterations=10, warmup_iterations=5\n",
    "    )\n",
    "    data[concurrency] = result\n",
    "\n",
    "plot = sns.barplot({k: v[\"mean\"] for k, v in data.items()})\n",
    "plot.set(xlabel=\"concurrency\", ylabel=\"average runtime\")"
   ]
  },
  {
   "cell_type": "markdown",
   "metadata": {},
   "source": [
    "## Write back"
   ]
  },
  {
   "cell_type": "code",
   "execution_count": null,
   "metadata": {},
   "outputs": [],
   "source": [
    "G, _ = gds.graph.project.remoteDb(\n",
    "    \"graph\",\n",
    "    \"\"\"\n",
    "    CYPHER runtime = parallel\n",
    "    MATCH (u)\n",
    "    OPTIONAL MATCH (u)-[r]->(t)\n",
    "    RETURN gds.graph.project.remote(u, t, {})\n",
    "    \"\"\",\n",
    "    concurrency=4,\n",
    ")\n",
    "\n",
    "gds.degree.mutate(G, mutateProperty=\"degree\")\n",
    "gds.fastRP.mutate(G, mutateProperty=\"embedding\", embeddingDimension=128, iterationWeights=[1.0])\n",
    "gds.knn.mutate(\n",
    "    G, topK=4, mutateRelationshipType=\"KNN_RELS\", mutateProperty=\"score\", maxIterations=1, nodeProperties=[\"embedding\"]\n",
    ")"
   ]
  },
  {
   "cell_type": "code",
   "execution_count": null,
   "metadata": {},
   "outputs": [],
   "source": [
    "result = timeit.repeat(\n",
    "    lambda: gds.run_cypher(\"MATCH (n) SET n.degree = null\"),\n",
    "    lambda: gds.graph.nodeProperties.write(G, node_properties=[\"degree\"]),\n",
    "    number=1,\n",
    "    repeat=iterations,\n",
    ")\n",
    "\n",
    "print(f\"scalar property: {result}\")"
   ]
  },
  {
   "cell_type": "code",
   "execution_count": null,
   "metadata": {},
   "outputs": [],
   "source": [
    "result = timeit.repeat(\n",
    "    lambda: gds.run_cypher(\"MATCH (n) SET n.embedding = null\"),\n",
    "    lambda: gds.graph.nodeProperties.write(G, node_properties=[\"embedding\"]),\n",
    "    number=1,\n",
    "    repeat=iterations,\n",
    ")\n",
    "\n",
    "print(f\"array property: {result}\")"
   ]
  },
  {
   "cell_type": "code",
   "execution_count": null,
   "metadata": {},
   "outputs": [],
   "source": [
    "result = timeit.repeat(\n",
    "    lambda: gds.run_cypher(\"MATCH (n)-[r:KNN_RELS]->() DELETE r\"),\n",
    "    lambda: gds.graph.relationship.write(G, relationship_type=\"KNN_RELS\", relationship_property=\"score\"),\n",
    "    number=1,\n",
    "    repeat=iterations,\n",
    ")\n",
    "\n",
    "print(f\"relationships: {result}\")"
   ]
  },
  {
   "cell_type": "markdown",
   "metadata": {},
   "source": [
    "## Cleanup"
   ]
  },
  {
   "cell_type": "code",
   "execution_count": null,
   "metadata": {},
   "outputs": [],
   "source": [
    "gds.graph.drop(\"graph\")"
   ]
  },
  {
   "cell_type": "code",
   "execution_count": null,
   "metadata": {},
   "outputs": [],
   "source": [
    "sessions.delete_gds(session_name)"
   ]
  },
  {
   "cell_type": "code",
   "execution_count": null,
   "metadata": {},
   "outputs": [],
   "source": [
    "# cleanup\n",
    "\n",
    "from graphdatascience.aura_api import AuraApi\n",
    "\n",
    "aura_api = AuraApi(CLIENT_ID, CLIENT_SECRET)\n",
    "aura_api.delete_instance(DB_ID)"
   ]
  }
 ],
 "metadata": {
  "language_info": {
   "name": "python"
  }
 },
 "nbformat": 4,
 "nbformat_minor": 2
}
