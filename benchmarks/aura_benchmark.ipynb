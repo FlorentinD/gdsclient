{
 "cells": [
  {
   "cell_type": "markdown",
   "metadata": {},
   "source": [
    "# Benchmarking Aura features"
   ]
  },
  {
   "cell_type": "code",
   "execution_count": 1,
   "metadata": {},
   "outputs": [],
   "source": [
    "import timeit\n",
    "from graphdatascience.aura_graph_data_science import AuraGraphDataScience\n",
    "from graphdatascience.aura_sessions import AuraSessions\n",
    "from graphdatascience.query_runner.aura_db_arrow_query_runner import AuraDbConnectionInfo"
   ]
  },
  {
   "cell_type": "code",
   "execution_count": 2,
   "metadata": {},
   "outputs": [],
   "source": [
    "CLIENT_ID = os.environ[\"CLIENT_ID\"]\n",
    "CLIENT_SECRET = os.environ[\"CLIENT_SECRET\"]\n",
    "DB_PASSWORD = \"\" \n",
    "DB_ID = \"b1c3673e\"\n",
    "os.environ[\"AURA_ENV\"] = \"devstrawberry\"\n",
    "\n",
    "db_connection_info = AuraDbConnectionInfo(\n",
    "        f\"neo4j+s://{DB_ID}-{os.environ['AURA_ENV']}.databases.neo4j-dev.io\", (\"neo4j\", DB_PASSWORD)\n",
    "    )"
   ]
  },
  {
   "cell_type": "code",
   "execution_count": 3,
   "metadata": {},
   "outputs": [
    {
     "name": "stdout",
     "output_type": "stream",
     "text": [
      "Starting GDS session\n"
     ]
    },
    {
     "name": "stderr",
     "output_type": "stream",
     "text": [
      "Unable to retrieve routing information\n",
      "Unable to connect to the Neo4j DBMS. Trying again...\n",
      "Unable to retrieve routing information\n",
      "Unable to retrieve routing information\n",
      "Unable to retrieve routing information\n",
      "Unable to retrieve routing information\n",
      "Unable to retrieve routing information\n",
      "Unable to retrieve routing information\n",
      "Unable to retrieve routing information\n",
      "Unable to retrieve routing information\n",
      "Unable to retrieve routing information\n",
      "Unable to retrieve routing information\n",
      "Unable to connect to the Neo4j DBMS. Trying again...\n",
      "Unable to retrieve routing information\n",
      "Unable to retrieve routing information\n",
      "Unable to retrieve routing information\n",
      "Unable to retrieve routing information\n",
      "Unable to retrieve routing information\n",
      "Unable to retrieve routing information\n",
      "Unable to retrieve routing information\n",
      "Unable to retrieve routing information\n",
      "Unable to retrieve routing information\n",
      "Unable to retrieve routing information\n",
      "Unable to connect to the Neo4j DBMS. Trying again...\n",
      "Unable to retrieve routing information\n",
      "Unable to retrieve routing information\n",
      "Unable to retrieve routing information\n",
      "Unable to retrieve routing information\n",
      "Unable to retrieve routing information\n",
      "Unable to retrieve routing information\n",
      "Unable to retrieve routing information\n",
      "Unable to retrieve routing information\n",
      "Unable to retrieve routing information\n",
      "Unable to retrieve routing information\n",
      "Unable to connect to the Neo4j DBMS. Trying again...\n",
      "Unable to retrieve routing information\n",
      "Unable to retrieve routing information\n",
      "Unable to retrieve routing information\n",
      "Unable to retrieve routing information\n",
      "Unable to retrieve routing information\n",
      "Unable to retrieve routing information\n",
      "Unable to retrieve routing information\n",
      "Unable to retrieve routing information\n",
      "Unable to retrieve routing information\n",
      "Unable to retrieve routing information\n",
      "Unable to connect to the Neo4j DBMS. Trying again...\n",
      "Unable to retrieve routing information\n",
      "Unable to retrieve routing information\n",
      "Unable to retrieve routing information\n",
      "Unable to retrieve routing information\n",
      "Unable to retrieve routing information\n",
      "Unable to retrieve routing information\n",
      "Unable to retrieve routing information\n",
      "Unable to retrieve routing information\n",
      "Unable to retrieve routing information\n",
      "Unable to retrieve routing information\n",
      "Unable to connect to the Neo4j DBMS. Trying again...\n",
      "Unable to retrieve routing information\n",
      "Unable to retrieve routing information\n",
      "Unable to retrieve routing information\n",
      "Unable to retrieve routing information\n",
      "Unable to retrieve routing information\n",
      "Unable to retrieve routing information\n",
      "Unable to retrieve routing information\n",
      "Unable to retrieve routing information\n",
      "Unable to retrieve routing information\n",
      "Unable to retrieve routing information\n",
      "Unable to connect to the Neo4j DBMS. Trying again...\n",
      "Unable to retrieve routing information\n",
      "Unable to retrieve routing information\n",
      "Unable to retrieve routing information\n",
      "Unable to retrieve routing information\n",
      "Unable to retrieve routing information\n",
      "Unable to retrieve routing information\n",
      "Unable to retrieve routing information\n",
      "Unable to retrieve routing information\n",
      "Unable to retrieve routing information\n",
      "Unable to retrieve routing information\n",
      "Unable to connect to the Neo4j DBMS. Trying again...\n",
      "Unable to retrieve routing information\n",
      "Unable to retrieve routing information\n",
      "Unable to retrieve routing information\n",
      "Unable to retrieve routing information\n",
      "Unable to retrieve routing information\n",
      "Unable to retrieve routing information\n",
      "Unable to retrieve routing information\n",
      "Unable to retrieve routing information\n",
      "Unable to retrieve routing information\n",
      "Unable to retrieve routing information\n",
      "Unable to connect to the Neo4j DBMS. Trying again...\n",
      "Unable to retrieve routing information\n",
      "Unable to retrieve routing information\n",
      "Unable to retrieve routing information\n",
      "Unable to retrieve routing information\n",
      "Unable to retrieve routing information\n",
      "Unable to retrieve routing information\n",
      "Unable to retrieve routing information\n",
      "Unable to retrieve routing information\n",
      "Unable to retrieve routing information\n",
      "Unable to retrieve routing information\n",
      "Unable to connect to the Neo4j DBMS. Trying again...\n",
      "Unable to retrieve routing information\n",
      "Unable to retrieve routing information\n",
      "Unable to retrieve routing information\n",
      "Unable to retrieve routing information\n",
      "Unable to retrieve routing information\n",
      "Unable to retrieve routing information\n",
      "Unable to retrieve routing information\n",
      "Unable to retrieve routing information\n",
      "Unable to retrieve routing information\n",
      "Unable to retrieve routing information\n",
      "Unable to connect to the Neo4j DBMS. Trying again...\n",
      "Unable to retrieve routing information\n",
      "Unable to retrieve routing information\n",
      "Unable to retrieve routing information\n",
      "Unable to retrieve routing information\n",
      "Unable to retrieve routing information\n",
      "Unable to retrieve routing information\n",
      "Unable to retrieve routing information\n",
      "Unable to retrieve routing information\n",
      "Unable to retrieve routing information\n",
      "Unable to retrieve routing information\n",
      "Unable to connect to the Neo4j DBMS. Trying again...\n",
      "Unable to retrieve routing information\n",
      "Unable to retrieve routing information\n",
      "Unable to retrieve routing information\n",
      "Unable to retrieve routing information\n",
      "Unable to retrieve routing information\n",
      "Unable to retrieve routing information\n",
      "Unable to retrieve routing information\n",
      "Unable to retrieve routing information\n",
      "Unable to retrieve routing information\n",
      "Unable to retrieve routing information\n",
      "Unable to connect to the Neo4j DBMS. Trying again...\n",
      "Unable to retrieve routing information\n",
      "Unable to retrieve routing information\n",
      "Unable to retrieve routing information\n",
      "Unable to retrieve routing information\n",
      "Unable to retrieve routing information\n",
      "Unable to retrieve routing information\n",
      "Unable to retrieve routing information\n",
      "Unable to retrieve routing information\n",
      "Unable to retrieve routing information\n",
      "Unable to retrieve routing information\n",
      "Unable to connect to the Neo4j DBMS. Trying again...\n",
      "Unable to retrieve routing information\n",
      "Unable to retrieve routing information\n",
      "Unable to retrieve routing information\n",
      "Unable to retrieve routing information\n",
      "Unable to retrieve routing information\n",
      "Unable to retrieve routing information\n",
      "Unable to retrieve routing information\n",
      "Unable to retrieve routing information\n",
      "Unable to retrieve routing information\n",
      "Unable to retrieve routing information\n",
      "Unable to connect to the Neo4j DBMS. Trying again...\n",
      "Unable to retrieve routing information\n",
      "Unable to retrieve routing information\n",
      "Unable to retrieve routing information\n",
      "Unable to retrieve routing information\n",
      "Unable to retrieve routing information\n",
      "Unable to retrieve routing information\n",
      "Unable to retrieve routing information\n",
      "Unable to retrieve routing information\n",
      "Unable to retrieve routing information\n",
      "Unable to retrieve routing information\n",
      "Unable to connect to the Neo4j DBMS. Trying again...\n",
      "Unable to retrieve routing information\n",
      "Unable to retrieve routing information\n",
      "Unable to retrieve routing information\n",
      "Unable to retrieve routing information\n",
      "Unable to retrieve routing information\n",
      "Unable to retrieve routing information\n",
      "Unable to retrieve routing information\n",
      "Unable to retrieve routing information\n",
      "Unable to retrieve routing information\n",
      "Unable to retrieve routing information\n",
      "Unable to connect to the Neo4j DBMS. Trying again...\n",
      "Unable to retrieve routing information\n",
      "Unable to retrieve routing information\n",
      "Unable to retrieve routing information\n",
      "Unable to retrieve routing information\n",
      "Unable to retrieve routing information\n",
      "Unable to retrieve routing information\n",
      "Unable to retrieve routing information\n",
      "Unable to retrieve routing information\n",
      "Unable to retrieve routing information\n",
      "Unable to retrieve routing information\n",
      "Unable to connect to the Neo4j DBMS. Trying again...\n",
      "Unable to retrieve routing information\n",
      "Unable to retrieve routing information\n",
      "Unable to retrieve routing information\n"
     ]
    }
   ],
   "source": [
    "sessions = AuraSessions(db_connection_info, (CLIENT_ID, CLIENT_SECRET))\n",
    "session_name = \"benchmark-session\"\n",
    "session_pw = \"my-password\"\n",
    "\n",
    "print(\"Starting GDS session\")\n",
    "if session_name in [i.name for i in sessions.list_sessions()]:\n",
    "    gds = sessions.connect(session_name, session_pw)\n",
    "else:\n",
    "    gds = sessions.create_gds(session_name, session_pw)"
   ]
  },
  {
   "cell_type": "code",
   "execution_count": 5,
   "metadata": {},
   "outputs": [],
   "source": [
    "def workload_remote_projection():  \n",
    "  with gds.graph.project.remoteDb(\n",
    "        \"graph\",\n",
    "        \"\"\"\n",
    "    CYPHER runtime = parallel\n",
    "    MATCH (u)\n",
    "    OPTIONAL MATCH (u)-[r]->(t)\n",
    "    RETURN gds.graph.project.remote(u, t, {})\n",
    "    \"\"\",\n",
    "    concurrency=4\n",
    "    ) as G:\n",
    "        print(G)"
   ]
  },
  {
   "cell_type": "code",
   "execution_count": 7,
   "metadata": {},
   "outputs": [
    {
     "name": "stdout",
     "output_type": "stream",
     "text": [
      "Graph(name=graph, node_count=1000, relationship_count=8000)\n",
      "Graph(name=graph, node_count=1000, relationship_count=8000)\n",
      "Graph(name=graph, node_count=1000, relationship_count=8000)\n",
      "Graph(name=graph, node_count=1000, relationship_count=8000)\n",
      "Graph(name=graph, node_count=1000, relationship_count=8000)\n",
      "Graph(name=graph, node_count=1000, relationship_count=8000)\n",
      "[4.892199249996338, 2.424036000011256, 2.5078814169974066, 2.2833090419881046, 2.2362234580214135, 2.2035216249933]\n"
     ]
    }
   ],
   "source": [
    "iterations = 6\n",
    "result = timeit.repeat(lambda: workload_remote_projection(), number=1, repeat=iterations)\n",
    "\n",
    "print(result)"
   ]
  },
  {
   "cell_type": "markdown",
   "metadata": {},
   "source": [
    "## Write back"
   ]
  },
  {
   "cell_type": "code",
   "execution_count": 16,
   "metadata": {},
   "outputs": [
    {
     "data": {
      "text/plain": [
       "ranIterations                                                             1\n",
       "nodePairsConsidered                                                   22170\n",
       "didConverge                                                           False\n",
       "preProcessingMillis                                                       0\n",
       "computeMillis                                                            67\n",
       "mutateMillis                                                             65\n",
       "postProcessingMillis                                                      0\n",
       "nodesCompared                                                          1000\n",
       "relationshipsWritten                                                   4000\n",
       "similarityDistribution    {'min': 0.0, 'p5': 0.5340614318847656, 'max': ...\n",
       "configuration             {'mutateProperty': 'score', 'jobId': '6f156d35...\n",
       "Name: 0, dtype: object"
      ]
     },
     "execution_count": 16,
     "metadata": {},
     "output_type": "execute_result"
    }
   ],
   "source": [
    "G, _ = gds.graph.project.remoteDb(\n",
    "        \"graph\",\n",
    "        \"\"\"\n",
    "    CYPHER runtime = parallel\n",
    "    MATCH (u)\n",
    "    OPTIONAL MATCH (u)-[r]->(t)\n",
    "    RETURN gds.graph.project.remote(u, t, {})\n",
    "    \"\"\",\n",
    "    concurrency=4\n",
    "    )\n",
    "\n",
    "gds.degree.mutate(G, mutateProperty=\"degree\")\n",
    "gds.fastRP.mutate(G, mutateProperty=\"embedding\", embeddingDimension=128, iterationWeights=[1.0])\n",
    "gds.knn.mutate(G, topK=4, mutateRelationshipType=\"KNN_RELS\", mutateProperty=\"score\", maxIterations=1, nodeProperties=[\"embedding\"])"
   ]
  },
  {
   "cell_type": "code",
   "execution_count": 20,
   "metadata": {},
   "outputs": [
    {
     "name": "stdout",
     "output_type": "stream",
     "text": [
      "scalar property: [0.12835391599219292, 0.12202195799909532, 0.12279637498431839, 0.12687449998338707, 0.137083875015378, 0.14937504200497642]\n"
     ]
    }
   ],
   "source": [
    "result = timeit.repeat(\n",
    "    lambda: gds.run_cypher(\"MATCH (n) SET n.degree = null\"),\n",
    "    lambda: gds.graph.nodeProperties.write(G, node_properties=[\"degree\"]), \n",
    "    number=1, \n",
    "    repeat=iterations)\n",
    "\n",
    "print(f\"scalar property: {result}\")"
   ]
  },
  {
   "cell_type": "code",
   "execution_count": 19,
   "metadata": {},
   "outputs": [
    {
     "name": "stdout",
     "output_type": "stream",
     "text": [
      "array property: [0.19451499998103827, 0.1829530840041116, 0.18628650001483038, 0.17463279099320062, 0.20477325000683777, 0.1867185410228558]\n"
     ]
    }
   ],
   "source": [
    "result = timeit.repeat(\n",
    "    lambda: gds.run_cypher(\"MATCH (n) SET n.embedding = null\"),\n",
    "    lambda: gds.graph.nodeProperties.write(G, node_properties=[\"embedding\"]), \n",
    "    number=1, \n",
    "    repeat=iterations)\n",
    "\n",
    "print(f\"array property: {result}\")"
   ]
  },
  {
   "cell_type": "code",
   "execution_count": 24,
   "metadata": {},
   "outputs": [
    {
     "name": "stdout",
     "output_type": "stream",
     "text": [
      "relationships: [0.21328462500241585, 0.19357400000444613, 0.1947907089779619, 0.20090529101435095, 0.20773408300010487, 0.18440237498725764]\n"
     ]
    }
   ],
   "source": [
    "result = timeit.repeat(\n",
    "    lambda: gds.run_cypher(\"MATCH (n)-[r:KNN_RELS]->() DELETE r\"),\n",
    "    lambda: gds.graph.relationship.write(G, relationship_type=\"KNN_RELS\", relationship_property=\"score\"), \n",
    "    number=1, \n",
    "    repeat=iterations)\n",
    "\n",
    "print(f\"relationships: {result}\")"
   ]
  },
  {
   "cell_type": "markdown",
   "metadata": {},
   "source": [
    "## Cleanup"
   ]
  },
  {
   "cell_type": "code",
   "execution_count": 15,
   "metadata": {},
   "outputs": [
    {
     "data": {
      "text/plain": [
       "graphName                                                            graph\n",
       "database                                                             neo4j\n",
       "databaseLocation                                                    remote\n",
       "memoryUsage                                                               \n",
       "sizeInBytes                                                             -1\n",
       "nodeCount                                                             1000\n",
       "relationshipCount                                                     8000\n",
       "configuration                                                         None\n",
       "density                                                           0.008008\n",
       "creationTime                           2023-11-27T15:30:57.317400552+00:00\n",
       "modificationTime                       2023-11-27T15:30:59.429387718+00:00\n",
       "schema                   {'graphProperties': {}, 'nodes': {'__ALL__': {...\n",
       "schemaWithOrientation    {'graphProperties': {}, 'nodes': {'__ALL__': {...\n",
       "Name: 0, dtype: object"
      ]
     },
     "execution_count": 15,
     "metadata": {},
     "output_type": "execute_result"
    }
   ],
   "source": [
    "G.drop()"
   ]
  },
  {
   "cell_type": "code",
   "execution_count": null,
   "metadata": {},
   "outputs": [],
   "source": [
    "sessions.delete_gds(session_name)"
   ]
  },
  {
   "cell_type": "code",
   "execution_count": null,
   "metadata": {},
   "outputs": [],
   "source": [
    "# cleanup\n",
    "\n",
    "from graphdatascience.aura_api import AuraApi\n",
    "\n",
    "aura_api = AuraApi(CLIENT_ID, CLIENT_SECRET)\n",
    "aura_api.delete_instance(DB_ID)"
   ]
  }
 ],
 "metadata": {
  "kernelspec": {
   "display_name": "Python 3",
   "language": "python",
   "name": "python3"
  },
  "language_info": {
   "codemirror_mode": {
    "name": "ipython",
    "version": 3
   },
   "file_extension": ".py",
   "mimetype": "text/x-python",
   "name": "python",
   "nbconvert_exporter": "python",
   "pygments_lexer": "ipython3",
   "version": "3.11.6"
  }
 },
 "nbformat": 4,
 "nbformat_minor": 2
}
