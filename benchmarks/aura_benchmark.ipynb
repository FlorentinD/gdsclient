{
 "cells": [
  {
   "cell_type": "markdown",
   "metadata": {},
   "source": [
    "# Benchmarking Aura features"
   ]
  },
  {
   "cell_type": "code",
   "execution_count": null,
   "metadata": {},
   "outputs": [],
   "source": [
    "import os\n",
    "import timeit\n",
    "\n",
    "import numpy as np\n",
    "import seaborn as sns\n",
    "from tqdm import tqdm\n",
    "\n",
    "from graphdatascience.aura_sessions import AuraSessions\n",
    "from graphdatascience.query_runner.aura_db_arrow_query_runner import AuraDbConnectionInfo"
   ]
  },
  {
   "cell_type": "code",
   "execution_count": null,
   "metadata": {},
   "outputs": [],
   "source": [
    "from dotenv import load_dotenv\n",
    "\n",
    "load_dotenv(\"credentials.env\")\n",
    "\n",
    "CLIENT_ID = os.environ.get(\"CLIENT_ID\")\n",
    "CLIENT_SECRET = os.environ.get(\"CLIENT_SECRET\")\n",
    "\n",
    "DB_PASSWORD = os.environ.get(\"DB_PASSWORD\")\n",
    "DB_ID = os.environ.get(\"DB_ID\")\n",
    "\n",
    "db_connection_info = AuraDbConnectionInfo(\n",
    "    f\"neo4j+s://{DB_ID}-{os.environ['AURA_ENV']}.databases.neo4j-dev.io\", (\"neo4j\", DB_PASSWORD)\n",
    ")"
   ]
  },
  {
   "cell_type": "code",
   "execution_count": null,
   "metadata": {},
   "outputs": [],
   "source": [
    "sessions = AuraSessions(db_connection_info, (CLIENT_ID, CLIENT_SECRET))\n",
    "session_name = \"benchmark-session\"\n",
    "session_pw = \"my-password\"\n",
    "\n",
    "print(\"Starting GDS session\")\n",
    "if session_name in [i.name for i in sessions.list_sessions()]:\n",
    "    gds = sessions.connect(session_name, session_pw)\n",
    "else:\n",
    "    gds = sessions.create_gds(session_name, session_pw, \"24GB\")"
   ]
  },
  {
   "cell_type": "code",
   "execution_count": null,
   "metadata": {},
   "outputs": [],
   "source": [
    "def measure(func, setup, iterations, warmup_iterations):\n",
    "    pbar = tqdm(total=iterations + warmup_iterations)\n",
    "\n",
    "    def wrapper():\n",
    "        value = func()\n",
    "        pbar.update(1)\n",
    "        return value\n",
    "\n",
    "    pbar.set_description(\"Warmup\")\n",
    "    warmup = timeit.repeat(wrapper, setup=setup, number=1, repeat=warmup_iterations)\n",
    "\n",
    "    pbar.set_description(\"Measurement\")\n",
    "    measurement = timeit.repeat(wrapper, setup=setup, number=1, repeat=iterations)\n",
    "\n",
    "    pbar.close()\n",
    "\n",
    "    return {\"iterations\": measurement, \"mean\": np.mean(measurement), \"avg\": np.average(measurement)}"
   ]
  },
  {
   "cell_type": "markdown",
   "metadata": {
    "collapsed": false
   },
   "source": [
    "## Projection"
   ]
  },
  {
   "cell_type": "code",
   "execution_count": null,
   "metadata": {},
   "outputs": [],
   "source": [
    "def run_remote_projection(query, concurrency):\n",
    "    with gds.graph.project(\"graph\", query, concurrency=concurrency) as G:\n",
    "        ()"
   ]
  },
  {
   "cell_type": "code",
   "execution_count": null,
   "metadata": {},
   "outputs": [],
   "source": [
    "run_remote_projection(\n",
    "    \"\"\"\n",
    "    CYPHER runtime = parallel\n",
    "    MATCH (u)\n",
    "    OPTIONAL MATCH (u)-[r]->(t)\n",
    "    RETURN gds.graph.project.remote(u, t, {})\n",
    "    \"\"\",\n",
    "    concurrency=1,\n",
    ")"
   ]
  },
  {
   "cell_type": "markdown",
   "metadata": {
    "collapsed": false
   },
   "source": [
    "### Project entire graph, structure only"
   ]
  },
  {
   "cell_type": "markdown",
   "metadata": {
    "collapsed": false
   },
   "source": [
    "#### No parallel Runtime"
   ]
  },
  {
   "cell_type": "code",
   "execution_count": null,
   "metadata": {},
   "outputs": [],
   "source": [
    "data = {}\n",
    "for concurrency in [8]:\n",
    "    result = measure(\n",
    "        lambda: run_remote_projection(\n",
    "            \"\"\"\n",
    "            MATCH (u)\n",
    "            OPTIONAL MATCH (u)-[r]->(t)\n",
    "            RETURN gds.graph.project.remote(u, t, null)\n",
    "            \"\"\",\n",
    "            concurrency=concurrency,\n",
    "        ),\n",
    "        lambda: gds.graph.drop(\"graph\", failIfMissing=False),\n",
    "        iterations=1,\n",
    "        warmup_iterations=1,\n",
    "    )\n",
    "    data[concurrency] = result"
   ]
  },
  {
   "cell_type": "code",
   "execution_count": null,
   "metadata": {},
   "outputs": [],
   "source": [
    "values = {k: v[\"mean\"] for k, v in list(data.items())}\n",
    "\n",
    "plot = sns.barplot(values)\n",
    "plot.set(xlabel=\"concurrency\", ylabel=\"average runtime\")"
   ]
  },
  {
   "cell_type": "markdown",
   "metadata": {
    "collapsed": false
   },
   "source": [
    "#### Parallel Runtime"
   ]
  },
  {
   "cell_type": "code",
   "execution_count": null,
   "metadata": {},
   "outputs": [],
   "source": [
    "data = {}\n",
    "for concurrency in [8]:\n",
    "    result = measure(\n",
    "        lambda: run_remote_projection(\n",
    "            \"\"\"\n",
    "            CYPHER runtime = parallel\n",
    "            MATCH (u)\n",
    "            OPTIONAL MATCH (u)-[r]->(t)\n",
    "            RETURN gds.graph.project.remote(u, t, null)\n",
    "            \"\"\",\n",
    "            concurrency=concurrency,\n",
    "        ),\n",
    "        lambda: (),\n",
    "        iterations=1,\n",
    "        warmup_iterations=1,\n",
    "    )\n",
    "    data[concurrency] = result\n",
    "\n",
    "plot = sns.barplot({k: v[\"mean\"] for k, v in data.items()})\n",
    "plot.set(xlabel=\"concurrency\", ylabel=\"average runtime\")"
   ]
  },
  {
   "cell_type": "markdown",
   "metadata": {
    "collapsed": false
   },
   "source": [
    "### Project entire graph, with properties and labels"
   ]
  },
  {
   "cell_type": "code",
   "execution_count": null,
   "metadata": {},
   "outputs": [],
   "source": [
    "query = \"\"\" CYPHER runtime = parallel\n",
    "            MATCH (u)\n",
    "            OPTIONAL MATCH (u)-[r]->(t)\n",
    "            RETURN gds.graph.project.remote(u, t, {\n",
    "                sourceNodeLabels: labels(u),\n",
    "                sourceNodeProperties: {id: id(u)},\n",
    "                targetNodeLabels: labels(t),\n",
    "                targetNodeProperties: {id: id(t)},\n",
    "                relationshipType: type(r),\n",
    "                relationshipProperties: {id: id(r)}\n",
    "            })\n",
    "        \"\"\"\n",
    "\n",
    "data = {}\n",
    "for concurrency in [8]:\n",
    "    result = measure(\n",
    "        lambda: run_remote_projection(query, concurrency=concurrency), lambda: (), iterations=10, warmup_iterations=5\n",
    "    )\n",
    "    data[concurrency] = result\n",
    "\n",
    "plot = sns.barplot({k: v[\"mean\"] for k, v in data.items()})\n",
    "plot.set(xlabel=\"concurrency\", ylabel=\"average runtime\")"
   ]
  },
  {
   "cell_type": "markdown",
   "metadata": {},
   "source": [
    "## Write back"
   ]
  },
  {
   "cell_type": "code",
   "execution_count": null,
   "metadata": {},
   "outputs": [],
   "source": [
    "G, _ = gds.graph.project(\n",
    "    \"graph\",\n",
    "    \"\"\"\n",
    "    CYPHER runtime = parallel\n",
    "    MATCH (u)\n",
    "    OPTIONAL MATCH (u)-[r]->(t)\n",
    "    RETURN gds.graph.project.remote(u, t, {})\n",
    "    \"\"\",\n",
    "    concurrency=4,\n",
    ")"
   ]
  },
  {
   "cell_type": "code",
   "execution_count": null,
   "metadata": {},
   "outputs": [],
   "source": [
    "G = gds.graph.get(\"graph\")"
   ]
  },
  {
   "cell_type": "markdown",
   "metadata": {},
   "source": [
    "### Node properties"
   ]
  },
  {
   "cell_type": "code",
   "execution_count": null,
   "metadata": {},
   "outputs": [],
   "source": [
    "gds.degree.mutate(G, mutateProperty=\"degree\")"
   ]
  },
  {
   "cell_type": "code",
   "execution_count": null,
   "metadata": {},
   "outputs": [],
   "source": [
    "# testing once \n",
    "gds.graph.nodeProperties.write(G, node_properties=[\"degree\"])"
   ]
  },
  {
   "cell_type": "code",
   "execution_count": null,
   "metadata": {},
   "outputs": [],
   "source": [
    "gds.run_cypher(\"MATCH (n) WHERE NOT n.degree IS null RETURN count(n)\")"
   ]
  },
  {
   "cell_type": "code",
   "execution_count": null,
   "metadata": {},
   "outputs": [],
   "source": [
    "result = measure(\n",
    "    lambda: gds.graph.nodeProperties.write(G, node_properties=[\"degree\"]),\n",
    "    lambda: gds.run_cypher(\"MATCH (n) REMOVE n.degree\"),\n",
    "    iterations=1,\n",
    "    warmup_iterations=1,\n",
    ")\n",
    "\n",
    "print(f\"scalar property write-back: {result}\")"
   ]
  },
  {
   "cell_type": "code",
   "execution_count": null,
   "metadata": {},
   "outputs": [],
   "source": [
    "gds.fastRP.mutate(G, mutateProperty=\"embedding\", embeddingDimension=10, iterationWeights=[1.0])"
   ]
  },
  {
   "cell_type": "code",
   "execution_count": null,
   "metadata": {},
   "outputs": [],
   "source": [
    "result = timeit.repeat(\n",
    "    lambda: gds.run_cypher(\"MATCH (n) SET n.embedding = null\"),\n",
    "    lambda: gds.graph.nodeProperties.write(G, node_properties=[\"embedding\"]),\n",
    "    number=1,\n",
    "    repeat=iterations,\n",
    ")\n",
    "\n",
    "print(f\"array property: {result}\")"
   ]
  },
  {
   "cell_type": "markdown",
   "metadata": {},
   "source": [
    "### Relationship"
   ]
  },
  {
   "cell_type": "code",
   "execution_count": null,
   "metadata": {},
   "outputs": [],
   "source": [
    "matched_nodes = gds.run_cypher(\"MATCH (n)-[r]->() WITH count(r) as degree, n WHERE degree > 5 RETURN id(n) ORDER BY id(n) DESC LIMIT 2\").squeeze()"
   ]
  },
  {
   "cell_type": "code",
   "execution_count": null,
   "metadata": {},
   "outputs": [],
   "source": [
    "gds.allShortestPaths.delta.mutate(\n",
    "    G, sourceNode=matched_nodes[0], mutateRelationshipType=\"MUTATED_RELS\", concurrency=6\n",
    ")"
   ]
  },
  {
   "cell_type": "code",
   "execution_count": null,
   "metadata": {},
   "outputs": [],
   "source": [
    "gds.graph.relationship.write(G, relationship_type=\"MUTATED_RELS\", relationship_property=\"totalCost\")"
   ]
  },
  {
   "cell_type": "code",
   "execution_count": null,
   "metadata": {},
   "outputs": [],
   "source": [
    "# cleanup rels\n",
    "\n",
    "writted_rels_count = gds.run_cypher(\"MATCH ()-[r:MUTATED_RELS]->() RETURN count(r)\")\n",
    "print(f\"written rels: {writted_rels_count}\")\n",
    "gds.run_cypher(\"MATCH ()-[r:MUTATED_RELS]->() CALL { WITH r DELETE r} IN TRANSACTIONS  OF 2000 ROWS\")"
   ]
  },
  {
   "cell_type": "code",
   "execution_count": null,
   "metadata": {},
   "outputs": [],
   "source": [
    "result = timeit.repeat(\n",
    "    lambda: gds.run_cypher(\"MATCH (n)-[r:KNN_RELS]->() DELETE r\"),\n",
    "    lambda: gds.graph.relationship.write(G, relationship_type=\"KNN_RELS\", relationship_property=\"score\"),\n",
    "    number=1,\n",
    "    repeat=iterations,\n",
    ")\n",
    "\n",
    "print(f\"relationships: {result}\")"
   ]
  },
  {
   "cell_type": "markdown",
   "metadata": {},
   "source": [
    "## Cleanup"
   ]
  },
  {
   "cell_type": "code",
   "execution_count": null,
   "metadata": {},
   "outputs": [],
   "source": [
    "gds.graph.drop(\"graph\")"
   ]
  },
  {
   "cell_type": "code",
   "execution_count": null,
   "metadata": {},
   "outputs": [],
   "source": [
    "sessions.delete_gds(session_name)"
   ]
  },
  {
   "cell_type": "code",
   "execution_count": null,
   "metadata": {},
   "outputs": [],
   "source": []
  },
  {
   "cell_type": "code",
   "execution_count": null,
   "metadata": {},
   "outputs": [],
   "source": [
    "# cleanup\n",
    "\n",
    "from graphdatascience.aura_api import AuraApi\n",
    "\n",
    "aura_api = AuraApi(CLIENT_ID, CLIENT_SECRET)\n",
    "aura_api.delete_instance(DB_ID)"
   ]
  }
 ],
 "metadata": {
  "kernelspec": {
   "display_name": "Python 3",
   "language": "python",
   "name": "python3"
  },
  "language_info": {
   "codemirror_mode": {
    "name": "ipython",
    "version": 3
   },
   "file_extension": ".py",
   "mimetype": "text/x-python",
   "name": "python",
   "nbconvert_exporter": "python",
   "pygments_lexer": "ipython3",
   "version": "3.11.6"
  }
 },
 "nbformat": 4,
 "nbformat_minor": 2
}
